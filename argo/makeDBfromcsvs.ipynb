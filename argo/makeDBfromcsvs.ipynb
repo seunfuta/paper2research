{
 "cells": [
  {
   "cell_type": "code",
   "execution_count": null,
   "metadata": {},
   "outputs": [],
   "source": [
    "import sqlite3\n",
    "import pandas as pd\n",
    "import sys\n",
    "import numpy as np\n",
    "import argparse\n",
    "from os import listdir\n",
    "from os.path import isfile, join\n",
    "\n",
    "if __name__ == '__main__':\n",
    "    parser = argparse.ArgumentParser(description='Olu method')\n",
    "    parser.add_argument('-f', action=\"store\", default=\"/scratch/oadegbeh/M57/newfile.csv\", help='image files csv')\n",
    "    parser.add_argument('-s', action=\"store\", default=\"/scratch/oadegbeh/M57/newsector.csv\", help=\"image sectors csv\")\n",
    "    parser.add_argument('-o', action=\"store\", default=\"/scratch/oadegbeh/M57/new.db\", help='output db')\n",
    "    args = parser.parse_args()\n",
    "\n",
    "    files_df = pd.read_csv(args.f)\n",
    "    sectors_df = pd.read_csv(args.s)\n",
    "\n",
    "    con = sqlite3.connect(args.o)\n",
    "    sectors_df.to_sql('block_hashes', con, index=True)\n",
    "    files_df.to_sql('files', con, index=True)\n",
    "    print(\"Done!\")\n"
   ]
  },
  {
   "cell_type": "code",
   "execution_count": null,
   "metadata": {},
   "outputs": [],
   "source": [
    "#!/bin/sh\n",
    "\n",
    "\n",
    "#SBATCH --job-name=makeDBfromcsvs\n",
    "#SBATCH --partition=normal\n",
    "\n",
    "#SBATCH --output=/scratch/%u/%x-%N-%j.out  # Output file\n",
    "#SBATCH --error=/scratch/%u/%x-%N-%j.err   # Error file\n",
    "\n",
    "#SBATCH --mail-type=BEGIN,END,FAIL         # ALL,NONE,BEGIN,END,FAIL,REQUEUE,..\n",
    "#SBATCH --mail-user=oadegbeh@gmu.edu     # Put your GMU email address here\n",
    "\n",
    "##SBATCH --partition=all-HiPri ##bigmem\n",
    "#SBATCH --qos=normal\n",
    "\n",
    "#SBATCH --mem=64G ##960G        # Total memory needed per task (units: K,M,G,T)\n",
    "#SBATCH --time=0-03:00   # Total time needed for job: Days-Hours:Minutes\n",
    "\n",
    "#SBATCH --ntasks=64   # 50 workers, 1 manager\n",
    "\n",
    "##SBATCH --nodelist=amd070\n",
    "## Load the relevant modules needed for the job\n",
    "module load gnu10\n",
    "module load openmpi\n",
    "module load sqlite/3.34.0-zi\n",
    "module load python/3.8.6-ye\n",
    "\n",
    "source ~/MPIpool/bin/activate\n",
    "\n",
    "## Run your program or script\n",
    "python makeDBfromcsvs.py -f /scratch/oadegbeh/M57/pat-2009-12-03-files.csv -s /scratch/oadegbeh/M57/pat-2009-12-03-sectors.csv -o /scratch/oadegbeh/M57/pat-2009-12-03.db"
   ]
  }
 ],
 "metadata": {
  "kernelspec": {
   "display_name": "Python 3.8.3 ('scan_match_validate_all_mpi')",
   "language": "python",
   "name": "python3"
  },
  "language_info": {
   "name": "python",
   "version": "3.8.3"
  },
  "orig_nbformat": 4,
  "vscode": {
   "interpreter": {
    "hash": "b9897bb9d3ea6b47cb59a3fa29a33cee83df786d8baa248772bb7eb2ce311867"
   }
  }
 },
 "nbformat": 4,
 "nbformat_minor": 2
}
