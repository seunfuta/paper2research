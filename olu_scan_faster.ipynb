{
 "cells": [
  {
   "cell_type": "code",
   "execution_count": 82,
   "metadata": {},
   "outputs": [
    {
     "name": "stdout",
     "output_type": "stream",
     "text": [
      "original length  6826014\n",
      "catalog app length,  6546710\n"
     ]
    }
   ],
   "source": [
    "import sqlite3\n",
    "import pandas as pd\n",
    "\n",
    "CATALOG_DB_PATH = \"/Users/seunfuta/Downloads/NIST/OluDB_combo_v3.db\"\n",
    "catalog_conn = sqlite3.connect(CATALOG_DB_PATH)\n",
    "catalog_df = pd.DataFrame(columns=['obj_id', 'inode', 'filename','file_offset', 'len','md5','sha1', 'partition', 'filesize','app','app_id'])\n",
    "catalog_df = pd.read_sql_query(\"SELECT block_hashes.obj_id, block_hashes.inode, block_hashes.filename, block_hashes.file_offset, \\\n",
    "                block_hashes.len, block_hashes.md5, block_hashes.sha1, files.partition,files.filesize , files.app, files.app_id\\\n",
    "                FROM files \\\n",
    "                INNER JOIN block_hashes ON files.obj_id = block_hashes.obj_id \\\n",
    "                and files.inode = block_hashes.inode and files.filename=block_hashes.filename;\", catalog_conn)\n",
    "print(\"original length \",len(catalog_df))\n",
    "catalog_df = catalog_df[catalog_df.md5 != 'bf619eac0cdf3f68d496ea9344137e8b']\n",
    "catalog_df = catalog_df[catalog_df.md5 != 'de03fe65a6765caa8c91343acc62cffc']\n",
    "catalog_df = catalog_df[catalog_df.md5 != '85eba416ce0ee0951d1d93e73b191b75']\n",
    "catalog_df = catalog_df[catalog_df.md5 != '1b5c2cbf1e37f6b0d33751269ae707af']\n",
    "catalog_conn.close()\n",
    "print(\"catalog app length, \", len(catalog_df))\n",
    "#return appdf"
   ]
  },
  {
   "cell_type": "code",
   "execution_count": 83,
   "metadata": {},
   "outputs": [
    {
     "name": "stdout",
     "output_type": "stream",
     "text": [
      "original image length  4988815\n",
      "current image length  586972\n"
     ]
    }
   ],
   "source": [
    "IMAGE_DB_PATH = \"/Users/seunfuta/Downloads/NIST/IMG/Wireshark-W7x32.db\"\n",
    "image_conn = sqlite3.connect(IMAGE_DB_PATH)\n",
    "image_df = pd.DataFrame(columns=['obj_id', 'inode', 'filename','file_offset', 'len','md5','sha1', 'partition', 'filesize'])\n",
    "image_df = pd.read_sql_query(\"SELECT block_hashes.obj_id, files.inode, files.filename, block_hashes.file_offset, \\\n",
    "                block_hashes.len, block_hashes.md5, block_hashes.sha1, files.partition,files.filesize \\\n",
    "                FROM files \\\n",
    "                INNER JOIN block_hashes ON files.obj_id = block_hashes.obj_id;\", image_conn)\n",
    "print(\"original image length \",len(image_df))\n",
    "image_df = image_df[image_df.md5 != 'bf619eac0cdf3f68d496ea9344137e8b']\n",
    "image_df = image_df[image_df.md5 != 'de03fe65a6765caa8c91343acc62cffc']\n",
    "image_df = image_df[image_df.md5 != '85eba416ce0ee0951d1d93e73b191b75']\n",
    "image_df = image_df[image_df.md5 != '1b5c2cbf1e37f6b0d33751269ae707af']\n",
    "print(\"current image length \",len(image_df))\n",
    "\n",
    "\n",
    "    \n"
   ]
  },
  {
   "cell_type": "code",
   "execution_count": 84,
   "metadata": {},
   "outputs": [
    {
     "name": "stdout",
     "output_type": "stream",
     "text": [
      "Wireshark-W7x64 matched 56416 set 207316 valid {1: 55729, 0: 686}\n",
      "Wireshark-W7x32 matched 171330 set 170020 valid {1: 170615, 0: 714}\n",
      "Winzip17pro-W7x32 matched 184 set 244654 valid {0: 95, 1: 88}\n",
      "Winzip17pro-W7x64 matched 95 set 267364 valid {0: 48, 1: 46}\n",
      "sdelete-W7x32 matched 8 set 322 valid {0: 7}\n"
     ]
    },
    {
     "name": "stderr",
     "output_type": "stream",
     "text": [
      "/var/folders/s7/d__51l693s13d_yt81j0qp9r0000gn/T/ipykernel_870/961406072.py:31: DeprecationWarning: The default dtype for empty Series will be 'object' instead of 'float64' in a future version. Specify a dtype explicitly to silence this warning.\n",
      "  forward_series = pd.Series(forward_list)\n"
     ]
    },
    {
     "name": "stdout",
     "output_type": "stream",
     "text": [
      "sdelete-W7x64 matched 0 set 305 valid {}\n",
      "OfficePro2003-WinXP matched 100 set 1180648 valid {0: 55, 1: 44}\n",
      "OfficePro2003-W7x64 matched 143 set 626361 valid {0: 98, 1: 44}\n",
      "OfficePro2003-W7x32 matched 374 set 594938 valid {1: 205, 0: 168}\n",
      "Winrar5beta-W7x32 matched 39 set 9005 valid {0: 32, 1: 6}\n",
      "Firefox19-WinXP matched 208 set 89882 valid {1: 170, 0: 37}\n",
      "Winrar5beta-W7x64 matched 39 set 9027 valid {0: 32, 1: 6}\n",
      "Firefox19-W7x32 matched 281 set 89927 valid {1: 170, 0: 110}\n",
      "HxD171-W7x32 matched 27 set 4721 valid {0: 26}\n",
      "Firefox19-W7x64 matched 239 set 96105 valid {1: 170, 0: 68}\n",
      "Thunderbird2-WinXP matched 16 set 50877 valid {1: 11, 0: 4}\n",
      "Python264-WinXP matched 19 set 82470 valid {1: 11, 0: 7}\n",
      "eraser-W7x32 matched 51 set 5129 valid {0: 50}\n",
      "Chrome28-W7x64 matched 207 set 594382 valid {1: 110, 0: 96}\n",
      "Chrome28-WinXP matched 80 set 271911 valid {0: 41, 1: 38}\n",
      "Chrome28-W7x32 matched 283 set 593981 valid {0: 170, 1: 112}\n",
      "Safari157-W7x32 matched 236 set 295029 valid {0: 145, 1: 90}\n",
      "Safari157-WinXP matched 119 set 288615 valid {1: 87, 0: 31}\n",
      "Safari157-W7x64 matched 155 set 289820 valid {1: 88, 0: 66}\n",
      "TrueCrypt63-WinXP matched 10 set 14877 valid {1: 5, 0: 4}\n",
      "AdvancedKeylogger-WinXP matched 0 set 3954 valid {}\n",
      "InvisibleSecrets21-WinXP matched 0 set 3717 valid {}\n",
      "UPX-W7x32 matched 26 set 937 valid {0: 25}\n",
      "UPX-W7x64 matched 26 set 942 valid {0: 25}\n"
     ]
    }
   ],
   "source": [
    "app_list = catalog_df.app.unique()\n",
    "for app in app_list:\n",
    "    #if app == 'OfficePro2003-W7x32':\n",
    "    app_df = catalog_df[catalog_df.app == app]\n",
    "    app_unique_md5s= app_df.md5.unique()\n",
    "    matched_image_df = image_df[image_df.md5.isin(app_unique_md5s)]\n",
    "    #print(app,\" matched number of sectors in image \",len(matched_image_df))\n",
    "    #print(matched_image_df)\n",
    "    #lets create app sec pairs\n",
    "    app_files = app_df.filename.unique()\n",
    "    #print(app_files)\n",
    "    app_pairs_set = set() \n",
    "    for file in app_files:\n",
    "        files_df = app_df[app_df.filename == file]\n",
    "        #print(f'file {file} is of size {len(files_df)}')\n",
    "        file_hashes = files_df.md5\n",
    "        if len(file_hashes)< 2:\n",
    "            #print(file_hashes.iloc[0])\n",
    "            app_pairs_set.add(file_hashes.iloc[0])\n",
    "        else:\n",
    "            for i in range(0, len(file_hashes)-1):\n",
    "                #print(file_hashes.iloc[i])\n",
    "                #print(file_hashes.iloc[int(i+1)])\n",
    "                hash_pair = file_hashes.iloc[i]+file_hashes.iloc[i+1]\n",
    "            #print(i, hash_pair)\n",
    "                app_pairs_set.add(hash_pair)\n",
    "    #print(f\"set size is {len(app_pairs_set)}\")\n",
    "    lst2 = list(matched_image_df.md5)\n",
    "    lst2_pairs = list(map(lambda a, b: a + b, lst2[:-1], lst2[1:]))\n",
    "    forward_list = list(map(lambda x: 1 if x in app_pairs_set else 0, lst2_pairs))\n",
    "    forward_series = pd.Series(forward_list)\n",
    "    print(app, \"matched\", len(matched_image_df), \"set\", len(app_pairs_set), \"valid\",forward_series.value_counts().to_dict())\n",
    "        "
   ]
  },
  {
   "cell_type": "code",
   "execution_count": 85,
   "metadata": {},
   "outputs": [
    {
     "name": "stdout",
     "output_type": "stream",
     "text": [
      "Firefox19-W7x64  matched number of sectors in image  239\n",
      "Program Files (x86)/Mozilla Firefox/d3dx9_43.dll 12\n",
      "Program Files (x86)/Mozilla Firefox/D3DCompiler_43.dll 12\n",
      "Program Files (x86)/Mozilla Firefox/msvcp100.dll 53\n",
      "Program Files (x86)/Mozilla Firefox/mozjs.dll 1\n",
      "Program Files (x86)/Mozilla Firefox/xul.dll 1\n",
      "Program Files (x86)/Mozilla Firefox/webapprt-stub.exe 3\n",
      "Program Files (x86)/Mozilla Firefox/msvcr100.dll 122\n"
     ]
    }
   ],
   "source": [
    "app_list = catalog_df.app.unique()\n",
    "for app in app_list:\n",
    "    if app == 'Firefox19-W7x64':\n",
    "        app_df = catalog_df[catalog_df.app == app]\n",
    "        app_unique_md5s= app_df.md5.unique()\n",
    "        matched_image_df = image_df[image_df.md5.isin(app_unique_md5s)]\n",
    "        print(app,\" matched number of sectors in image \",len(matched_image_df))\n",
    "        #print(matched_image_df)\n",
    "        #lets create app sec pairs\n",
    "        app_files = app_df.filename.unique()\n",
    "        #print(app_files)\n",
    "        app_dict_set = {}\n",
    "        app_pairs_set = set() \n",
    "        for file in app_files:\n",
    "            files_df = app_df[app_df.filename == file]\n",
    "            #print(f'file {file} is of size {len(files_df)}')\n",
    "            file_hashes = files_df.md5\n",
    "            if len(file_hashes)< 2:\n",
    "                #print(file_hashes.iloc[0])\n",
    "                #app_pairs_set.add(file_hashes.iloc[0])\n",
    "                app_dict_set[file]=set(file_hashes.iloc[0])\n",
    "            else:\n",
    "                app_dict_set[file] = set()\n",
    "                for i in range(0, len(file_hashes)-1):\n",
    "                    #print(file_hashes.iloc[i])\n",
    "                    #print(file_hashes.iloc[int(i+1)])\n",
    "                    hash_pair = file_hashes.iloc[i]+file_hashes.iloc[i+1]\n",
    "                    #print(i, hash_pair)\n",
    "                    #app_pairs_set.add(hash_pair)\n",
    "                    app_dict_set[file].add(hash_pair)\n",
    "        #print(f\"set size is {len(app_pairs_set)}\")\n",
    "        #for key,value in app_dict_set.items():\n",
    "            #print(key,len(value))\n",
    "        image_md5_list = list(matched_image_df.md5)\n",
    "        image_md5_pairs = list(map(lambda a, b: a + b, image_md5_list[:-1], image_md5_list[1:]))\n",
    "        for key,value in app_dict_set.items():\n",
    "            forward_list = list(map(lambda x: 1 if x in value else 0, image_md5_pairs))\n",
    "            #forward_x = list(map(lambda x: x if x in value else 0, image_md5_pairs))\n",
    "            forward_series = pd.Series(forward_list).value_counts()\n",
    "            if 1 in forward_series.index.values:\n",
    "                print(key,forward_series[1])#,\"\\n\",forward_x)\n",
    "        #print(app, \"matched\", len(matched_image_df), \"set\", len(app_pairs_set), \"valid\",forward_series.value_counts())"
   ]
  },
  {
   "cell_type": "code",
   "execution_count": 87,
   "metadata": {},
   "outputs": [
    {
     "name": "stdout",
     "output_type": "stream",
     "text": [
      "Firefox19-W7x64  matched number of sectors in image  239\n",
      "Program Files (x86)/Mozilla Firefox/d3dx9_43.dll 12 \n",
      " [0, 0, 0, 0, 0, 0, 0, 0, 0, 0, 0, 0, 0, 0, 0, 0, 0, 0, 0, 0, 0, 0, 0, 0, 0, 0, 0, 0, 0, 0, 0, 0, 0, 0, 0, 0, 0, 0, 0, 0, 0, 0, 0, 0, 0, 0, 0, 0, 0, 0, 0, 0, 0, 0, 0, 0, 0, 0, 0, 0, 0, 0, 0, 0, 0, 0, 0, 0, 0, 0, 0, 0, 0, 0, 0, 0, 0, 0, 0, 0, 0, 0, 0, 0, 0, 0, 0, 0, 0, 0, 0, 0, 0, 0, 0, 0, 0, 0, 0, 0, 0, 0, 0, 0, 0, 0, 0, 0, 0, 0, 0, 0, 0, 0, 0, 0, 0, 0, 0, 0, 0, 0, 0, 0, 0, 0, 0, 0, 0, 0, 0, 0, 0, '1696b3148f687253c74c7f22f01b9e63698d3b7b4c51f4855cde5a51a028ebae', '698d3b7b4c51f4855cde5a51a028ebae4f014f8315537882802c8c083709a15f', '4f014f8315537882802c8c083709a15f70e1dc20d3d90245b56f5b3f16db24e3', '70e1dc20d3d90245b56f5b3f16db24e3d52b060ef3c295051db679b1c2a643a6', 'd52b060ef3c295051db679b1c2a643a64d8a5c39b2fdcd302c638b3b7fca35f5', '4d8a5c39b2fdcd302c638b3b7fca35f5fc4b1942ea87cf2a277a1055843bcf3f', 'fc4b1942ea87cf2a277a1055843bcf3f5d731cde0a84bb468eb6633c185b3ee6', 0, 0, 0, 0, 0, 0, 0, 0, 0, 0, 0, 0, 0, 0, 0, 0, 0, 0, 0, 0, 0, 0, 0, 0, 0, 0, 0, 0, 0, 0, 0, 0, 0, 0, 0, 0, 0, 0, 0, 0, 0, 0, 0, 0, 0, 0, 0, '1696b3148f687253c74c7f22f01b9e63698d3b7b4c51f4855cde5a51a028ebae', '698d3b7b4c51f4855cde5a51a028ebae4f014f8315537882802c8c083709a15f', '4f014f8315537882802c8c083709a15f70e1dc20d3d90245b56f5b3f16db24e3', '70e1dc20d3d90245b56f5b3f16db24e3d52b060ef3c295051db679b1c2a643a6', 'd52b060ef3c295051db679b1c2a643a64d8a5c39b2fdcd302c638b3b7fca35f5', 0, 0, 0, 0, 0, 0, 0, 0, 0, 0, 0, 0, 0, 0, 0, 0, 0, 0, 0, 0, 0, 0, 0, 0, 0, 0, 0, 0, 0, 0, 0, 0, 0, 0, 0, 0, 0, 0, 0, 0, 0, 0, 0, 0, 0, 0]\n",
      "Program Files (x86)/Mozilla Firefox/D3DCompiler_43.dll 12 \n",
      " [0, 0, 0, 0, 0, 0, 0, 0, 0, 0, 0, 0, 0, 0, 0, 0, 0, 0, 0, 0, 0, 0, 0, 0, 0, 0, 0, 0, 0, 0, 0, 0, 0, 0, 0, 0, 0, 0, 0, 0, 0, 0, 0, 0, 0, 0, 0, 0, 0, 0, 0, 0, 0, 0, 0, 0, 0, 0, 0, 0, 0, 0, 0, 0, 0, 0, 0, 0, 0, 0, 0, 0, 0, 0, 0, 0, 0, 0, 0, 0, 0, 0, 0, 0, 0, 0, 0, 0, 0, 0, 0, 0, 0, 0, 0, 0, 0, 0, 0, 0, 0, 0, 0, 0, 0, 0, 0, 0, 0, 0, 0, 0, 0, 0, 0, 0, 0, 0, 0, 0, 0, 0, 0, 0, 0, 0, 0, 0, 0, 0, 0, 0, 0, '1696b3148f687253c74c7f22f01b9e63698d3b7b4c51f4855cde5a51a028ebae', '698d3b7b4c51f4855cde5a51a028ebae4f014f8315537882802c8c083709a15f', '4f014f8315537882802c8c083709a15f70e1dc20d3d90245b56f5b3f16db24e3', '70e1dc20d3d90245b56f5b3f16db24e3d52b060ef3c295051db679b1c2a643a6', 'd52b060ef3c295051db679b1c2a643a64d8a5c39b2fdcd302c638b3b7fca35f5', 0, 0, 0, 0, 0, 0, 0, 0, 0, 0, 0, 0, 0, 0, 0, 0, 0, 0, 0, 0, 0, 0, 0, 0, 0, 0, 0, 0, 0, 0, 0, 0, 0, 0, 0, 0, 0, 0, 0, 0, 0, 0, 0, 0, 0, 0, 0, 0, 0, '1696b3148f687253c74c7f22f01b9e63698d3b7b4c51f4855cde5a51a028ebae', '698d3b7b4c51f4855cde5a51a028ebae4f014f8315537882802c8c083709a15f', '4f014f8315537882802c8c083709a15f70e1dc20d3d90245b56f5b3f16db24e3', '70e1dc20d3d90245b56f5b3f16db24e3d52b060ef3c295051db679b1c2a643a6', 'd52b060ef3c295051db679b1c2a643a64d8a5c39b2fdcd302c638b3b7fca35f5', '4d8a5c39b2fdcd302c638b3b7fca35f52fbc18189b991a6f842974392b34950e', '2fbc18189b991a6f842974392b34950ea5caf9fb85216dd9f40647c4e8bd3c37', 0, 0, 0, 0, 0, 0, 0, 0, 0, 0, 0, 0, 0, 0, 0, 0, 0, 0, 0, 0, 0, 0, 0, 0, 0, 0, 0, 0, 0, 0, 0, 0, 0, 0, 0, 0, 0, 0, 0, 0, 0, 0, 0, 0]\n",
      "Program Files (x86)/Mozilla Firefox/msvcp100.dll 53 \n",
      " [0, 0, 0, 0, 0, 0, 0, 0, 0, 0, 0, 0, 0, 0, 0, 0, 0, 0, 0, 0, 0, 0, 0, 0, 0, 0, 0, 0, 0, 0, 0, 0, 0, 0, 0, 0, 0, 0, 0, 0, 0, 0, 0, 0, 0, 0, 0, 0, 0, 0, 0, 0, 0, 0, 0, 0, 0, 0, 0, 0, 0, 0, 0, 0, 0, 0, 0, 0, 0, 0, 0, 0, 0, 0, 0, 0, 0, 0, 0, 0, 0, 0, 0, 0, 0, 0, 0, 0, 0, 0, 0, 0, 0, 0, 0, 0, 0, 0, 0, 0, 0, 0, 0, 0, 0, 0, 0, 0, 0, 0, 0, 0, 0, 0, 0, 0, 0, 0, 0, 0, 0, 0, 0, 0, 0, 0, 0, 0, 0, 0, 0, 0, 0, '1696b3148f687253c74c7f22f01b9e63698d3b7b4c51f4855cde5a51a028ebae', '698d3b7b4c51f4855cde5a51a028ebae4f014f8315537882802c8c083709a15f', '4f014f8315537882802c8c083709a15f70e1dc20d3d90245b56f5b3f16db24e3', '70e1dc20d3d90245b56f5b3f16db24e3d52b060ef3c295051db679b1c2a643a6', 'd52b060ef3c295051db679b1c2a643a64d8a5c39b2fdcd302c638b3b7fca35f5', '4d8a5c39b2fdcd302c638b3b7fca35f5fc4b1942ea87cf2a277a1055843bcf3f', 'fc4b1942ea87cf2a277a1055843bcf3f5d731cde0a84bb468eb6633c185b3ee6', 0, '6d4d49980f86b081f8070ec9f364dc74265ed4adb1eab8f24a3e1081b497a7f1', '265ed4adb1eab8f24a3e1081b497a7f1c598a74ba74661f9a93e3792a861dbbf', 'c598a74ba74661f9a93e3792a861dbbf00c838b025c0d0c2f0aa3042ffc76453', '00c838b025c0d0c2f0aa3042ffc764532ea5ed866ad9657415192cbf7bac316a', '2ea5ed866ad9657415192cbf7bac316a51e4b84f4ec8fd32973bff1823f133dd', '51e4b84f4ec8fd32973bff1823f133dd1284bd8c1740a7de23a6502f57d37c2e', '1284bd8c1740a7de23a6502f57d37c2e410a64c2f5bf0543123f667d20984b15', '410a64c2f5bf0543123f667d20984b15c16ccfce400eb1670d7e6a61fe9d9b31', 'c16ccfce400eb1670d7e6a61fe9d9b3112c10f81278b841178292e3dce7c9396', '12c10f81278b841178292e3dce7c939603d060b56436576f9934ced67107cb46', '03d060b56436576f9934ced67107cb46a35b94885c40b9b4b4bfbfb7b471e85b', 'a35b94885c40b9b4b4bfbfb7b471e85bfe7f4101e62e42c177478f446f5be296', 'fe7f4101e62e42c177478f446f5be2964e65ae241604a7c0e8f9eed2cf4d1981', '4e65ae241604a7c0e8f9eed2cf4d19819f966f50d82c9ca0a3669565b6263169', '9f966f50d82c9ca0a3669565b62631698c8ccb060dc621936bcb7ffe91a395a8', '8c8ccb060dc621936bcb7ffe91a395a8e71181d4e3b5297e8cd008f0a710fc4c', 'e71181d4e3b5297e8cd008f0a710fc4c7a9448ced1695e643af24a84ed0a82d5', '7a9448ced1695e643af24a84ed0a82d5be571bdd08d28be9fbbee14db41997d8', 'be571bdd08d28be9fbbee14db41997d8aa9d81912f8fc321d66b532ec60e902f', 'aa9d81912f8fc321d66b532ec60e902f6a7e918c6b85167e446d27b82bc7ccc7', '6a7e918c6b85167e446d27b82bc7ccc78da9cd02250d534cbd3ce43eb42d23e0', 0, '792a8142b7fdb422d8ff06950a88820ffcab42954f85901db591dfdbfa2b683c', 'fcab42954f85901db591dfdbfa2b683cf1728bbaddf0e6738c5a9f15545c4fa1', 'f1728bbaddf0e6738c5a9f15545c4fa1487d2289394533bfd4c425d62e3df6c6', '487d2289394533bfd4c425d62e3df6c6d8a5b47f404b7971adb1ad09053c87ed', 'd8a5b47f404b7971adb1ad09053c87edfc25470cf2e0047d5c953631ffe3c30b', 'fc25470cf2e0047d5c953631ffe3c30b680f0c254eef6f8edcca022286a87efb', '680f0c254eef6f8edcca022286a87efb753d3867de18a4d827bd0b30354a16f1', 0, '2d6471cbb9055f3d4eb788109c739a47486ea6a8ad52b9c42ebaeecfbf5b192f', '486ea6a8ad52b9c42ebaeecfbf5b192f9f84c170056fd5c4ad80a48ec2b83bde', '9f84c170056fd5c4ad80a48ec2b83bdea8c30cc896fc44ef962a2161cdd23ea0', 'a8c30cc896fc44ef962a2161cdd23ea041c23fa0c259755fddc212718d018ead', '41c23fa0c259755fddc212718d018eadec53d09bed7ff6d3697ac73df5b03609', 'ec53d09bed7ff6d3697ac73df5b03609827b1b4c27197714cf95b4a4c625e927', '827b1b4c27197714cf95b4a4c625e9276c95c47142629a8ceaf041bdfc5b38c8', 0, 0, '7a4d71ff90758742372c43a622a7e122d32277f818362836a3a54392ef889327', 'd32277f818362836a3a54392ef8893279d58a38204c3ff7bf6d19b1e82e1c7a5', '9d58a38204c3ff7bf6d19b1e82e1c7a54f4e5e73abc6fdc13b74fb2ee830ae8b', '4f4e5e73abc6fdc13b74fb2ee830ae8b554234fa5e2330c3852d6d934614f916', '554234fa5e2330c3852d6d934614f9164bfadd137b1c2fce9a375e5f4ea2a01f', '4bfadd137b1c2fce9a375e5f4ea2a01fa8666606f70d49dca5f2d81059d5c72b', 0, '1696b3148f687253c74c7f22f01b9e63698d3b7b4c51f4855cde5a51a028ebae', '698d3b7b4c51f4855cde5a51a028ebae4f014f8315537882802c8c083709a15f', '4f014f8315537882802c8c083709a15f70e1dc20d3d90245b56f5b3f16db24e3', '70e1dc20d3d90245b56f5b3f16db24e3d52b060ef3c295051db679b1c2a643a6', 'd52b060ef3c295051db679b1c2a643a64d8a5c39b2fdcd302c638b3b7fca35f5', 0, 0, 0, 0, 0, 0, 0, 0, 0, 0, 0, 0, 0, 0, 0, 0, 0, 0, 0, 0, 0, 0, 0, 0, 0, 0, 0, 0, 0, 0, 0, 0, 0, 0, 0, 0, 0, 0, 0, 0, 0, 0, 0, 0, 0, 0]\n",
      "Program Files (x86)/Mozilla Firefox/mozjs.dll 1 \n",
      " [0, 0, 0, 0, 0, 0, 0, 0, 0, 0, 0, 0, 0, 0, 0, 0, 0, 0, 0, 0, 0, 0, 0, 0, 0, 0, 0, 0, 0, 0, 0, 0, 0, 0, 0, 0, 0, 0, 0, 0, 0, 0, 0, 0, 0, 0, 0, 0, 0, 0, 0, 0, 0, 0, 0, 0, 0, 0, 0, 0, 0, 0, 0, 0, 0, 0, 0, 0, 0, 0, 0, 0, 0, 0, 0, 0, 0, 0, 0, 0, 0, 0, 0, 0, 0, 0, 0, 0, 0, 0, 0, 0, 0, 0, 0, 0, 0, 0, 0, 0, 0, 0, 0, 0, 0, 0, 0, 0, 0, 0, 0, 0, 0, 0, 0, 0, 0, 0, 0, 0, 0, 0, 0, 0, 0, 0, 0, 0, 0, 0, 0, 0, 0, 0, 0, 0, 0, 0, 0, 0, 0, 0, 0, 0, 0, 0, 0, 0, 0, 0, 0, 0, 0, 0, 0, 0, 0, 0, 0, 0, 0, 0, 0, 0, 0, 0, 0, 0, 0, 0, 0, 0, 0, 0, 0, 0, 0, 0, 0, 0, 0, 0, 0, 0, 0, 0, 0, 0, 0, 0, 0, 0, 0, 0, 0, 0, 0, 0, 0, 0, 0, 0, 0, 0, 0, 0, 0, '47234e77e0dfe73ab531b6ee91566255cb0641814c039415c5ebb1708c776a7e', 0, 0, 0, 0, 0, 0, 0, 0, 0, 0, 0, 0, 0, 0, 0, 0, 0, 0, 0, 0, 0, 0, 0, 0, 0, 0, 0, 0, 0, 0]\n",
      "Program Files (x86)/Mozilla Firefox/xul.dll 1 \n",
      " [0, 0, 0, 0, 0, 0, 0, 0, 0, 0, 0, 0, 0, 0, 0, 0, 0, 0, 0, 0, 0, 0, 0, 0, 0, 0, 0, 0, 0, 0, 0, 0, 0, 0, 0, 0, 0, 0, 0, 0, 0, 0, 0, 0, 0, 0, 0, 0, 0, 0, 0, 0, 0, 0, 0, 0, 0, 0, 0, 0, 0, 0, 0, 0, 0, 0, 0, 0, 0, 0, 0, 0, 0, 0, 0, 0, 0, 0, 0, 0, 0, 0, 0, 0, 0, 0, 0, 0, 0, 0, 0, 0, 0, 0, 0, 0, 0, 0, 0, 0, 0, 0, 0, 0, 0, 0, 0, 0, 0, 0, 0, 0, 0, 0, 0, 0, 0, 0, 0, 0, 0, 0, 0, 0, 0, 0, 0, 0, 0, 0, 0, 0, 0, 0, 0, 0, 0, 0, 0, 0, 0, 0, 0, 0, 0, 0, 0, 0, 0, 0, 0, 0, 0, 0, 0, 0, 0, 0, 0, 0, 0, 0, 0, 0, 0, 0, 0, 0, 0, 0, 0, 0, 0, 0, 0, 0, 0, 0, 0, 0, 0, 0, 0, 0, 0, 0, 0, 0, 0, 0, 0, 0, 0, 0, 0, 0, 0, 0, 0, 0, 0, 0, 0, 0, 0, 0, 0, 0, 0, 0, 0, 0, 0, 0, '6e95c6c720eeee70210c0a8f17ff74e6514b34e4357148044e977f68f104a97a', 0, 0, 0, 0, 0, 0, 0, 0, 0, 0, 0, 0, 0, 0, 0, 0, 0, 0, 0, 0, 0, 0, 0]\n",
      "Program Files (x86)/Mozilla Firefox/webapprt-stub.exe 3 \n",
      " [0, 0, 0, 0, 0, 0, 0, 0, 0, 0, 0, 0, 0, 0, 0, 0, 0, 0, 0, 0, 0, 0, 0, 0, 0, 0, 0, 0, 0, 0, 0, 0, 0, 0, 0, 0, 0, 0, 0, 0, 0, 0, 0, 0, 0, 0, 0, 0, 0, 0, 0, 0, 0, 0, 0, 0, 0, 0, 0, 0, 0, 0, 0, 0, 0, 0, 0, 0, 0, 0, 0, 0, 0, 0, 0, 0, 0, 0, 0, 0, 0, 0, 0, 0, 0, 0, 0, 0, 0, 0, 0, 0, 0, 0, 0, 0, 0, 0, 0, 0, 0, 0, 0, 0, 0, 0, 0, 0, 0, 0, 0, 0, 0, 0, 0, 0, 0, 0, 0, 0, 0, 0, 0, 0, 0, 0, 0, 0, 0, 0, 0, 0, 0, 0, 0, 0, 0, 0, 0, 0, 0, 0, 0, 0, 0, 0, 0, 0, 0, 0, 0, 0, 0, 0, 0, 0, 0, 0, 0, 0, 0, 0, 0, 0, 0, 0, 0, 0, 0, 0, 0, 0, 0, 0, 0, 0, 0, 0, 0, 0, 0, 0, 0, 0, 0, 0, 0, 0, 0, 0, 0, 0, 0, 0, 0, '15254bb3e4fc33eb82ab923f8e9da886074f3cac6a305f20b68d4576c03c14c9', '074f3cac6a305f20b68d4576c03c14c98fc7b88acd999a97d5477ad209af127a', '8fc7b88acd999a97d5477ad209af127aa758e3c7a965ca90505d32e455d15418', 0, 0, 0, 0, 0, 0, 0, 0, 0, 0, 0, 0, 0, 0, 0, 0, 0, 0, 0, 0, 0, 0, 0, 0, 0, 0, 0, 0, 0, 0, 0, 0, 0, 0, 0, 0, 0, 0, 0, 0]\n",
      "Program Files (x86)/Mozilla Firefox/msvcr100.dll 122 \n",
      " [0, 0, 0, 0, 0, 0, 0, 0, '992f9be19374de35e7364ade2db09e9f58720ecad8edbc9c805e64024982db04', '58720ecad8edbc9c805e64024982db04705f73ec31b012dfda7df87b0fcc2135', '705f73ec31b012dfda7df87b0fcc213542ee834750bf0284f9ff0c79edf2d851', '42ee834750bf0284f9ff0c79edf2d85132a93a1420165323c7e27995c5dbd1e2', 0, 0, 0, '18901c1b2f62da376789b3524f98520126147786bb995a569e7f82ab0cec7ad1', '26147786bb995a569e7f82ab0cec7ad133e2c156df788eafd6ea819d2cdcf324', '33e2c156df788eafd6ea819d2cdcf324f97709cc6859e16faedde46637114565', 0, '63f208d5f4995b234eb68c3bdf037768b3650f83834acb503f731c8d5901cf27', 'b3650f83834acb503f731c8d5901cf27bdbed2ea0e444d2e32cc8936235c510e', 'bdbed2ea0e444d2e32cc8936235c510ead34a5d18c6cea8a4c2c00fc1c547bd7', 'ad34a5d18c6cea8a4c2c00fc1c547bd793ace2d849c70871a3340b5df681e056', '93ace2d849c70871a3340b5df681e056b99a54a992387bf1f407a7aa7668c109', 'b99a54a992387bf1f407a7aa7668c109e43d96c1e7e9d773e4bc9739543684bb', 'e43d96c1e7e9d773e4bc9739543684bb3f236613607d09e6e4d8544f78f11a93', '3f236613607d09e6e4d8544f78f11a933cf04891bb2bd9c457dc832257406b02', '3cf04891bb2bd9c457dc832257406b0207cc698324de37a7fc16b3988fa9d8c6', '07cc698324de37a7fc16b3988fa9d8c61f9ccb78c7ee06c74b725dabc11d5574', '1f9ccb78c7ee06c74b725dabc11d557483db4f2496e2d4c55bc55316d1ae0d72', '83db4f2496e2d4c55bc55316d1ae0d72c3bc72992009419321ed1a59733d1b0b', 'c3bc72992009419321ed1a59733d1b0b1490af17743a676719aa545418f0220c', 0, '72d16aea9a486686a98fcae175c29374407f6e9e78410925cb964c715d5ccc2d', '407f6e9e78410925cb964c715d5ccc2d82edbd916b33c40a140469be42e921c0', '82edbd916b33c40a140469be42e921c0376dcc1bb9251520c957b229c1e107f4', '376dcc1bb9251520c957b229c1e107f4639f9276c76558b6813d916497ad6a28', '639f9276c76558b6813d916497ad6a28c51492e40b50980c59385448046c9839', 'c51492e40b50980c59385448046c983947c58b34a8b20b6f61fd1e557796bc1d', '47c58b34a8b20b6f61fd1e557796bc1defea958d4802b625018a2c9132d23168', 'efea958d4802b625018a2c9132d23168292b702d20acb50abda1eb18cf297b69', '292b702d20acb50abda1eb18cf297b696300e77069db8325cd1238d2128b0a7f', '6300e77069db8325cd1238d2128b0a7f1870a848cf9af81adf88fe974ae55a0b', '1870a848cf9af81adf88fe974ae55a0bd6e6e1b24f7de45bd4cd37a057a73408', 'd6e6e1b24f7de45bd4cd37a057a734089897f3c9dd34e0be57cd90047fa278da', 0, '8196c87b61c16e6c42b0dc39b3d4c62cc6acc12378bfefc95a8929fbad35a5a8', 'c6acc12378bfefc95a8929fbad35a5a815af6d1b75d70bccfb888e6a56402802', '15af6d1b75d70bccfb888e6a5640280268b1aec224ffbe9576f46bdf568cf442', '68b1aec224ffbe9576f46bdf568cf44219f16c35f7433f81b2bb6a4c5748c411', '19f16c35f7433f81b2bb6a4c5748c41119d0ae418139a0073293a278172a1463', '19d0ae418139a0073293a278172a1463bd34580f4aae4e10769888a1ca2febdf', 'bd34580f4aae4e10769888a1ca2febdf336d2bf5cd2b2d474912612acaf4b244', '336d2bf5cd2b2d474912612acaf4b244df44de3968f5405e6f8b88ae1d53cbde', 'df44de3968f5405e6f8b88ae1d53cbded7942a80b70c1d8d049bc028af4ca2ff', 'd7942a80b70c1d8d049bc028af4ca2ff9567869f912fa5ede3308df672b697c2', '9567869f912fa5ede3308df672b697c2fe6045d3849a62ca2a1b95c5f117d0c4', 0, 'ca31f56f76a413b6024ef1d91615e1c878f5bd17ba7f3803b3a3da7aa2628135', '78f5bd17ba7f3803b3a3da7aa2628135b017a66bd3c56acb73ec50ca15d55827', 'b017a66bd3c56acb73ec50ca15d558279ae1bc94a07f2d09d4cde6f3456439d5', '9ae1bc94a07f2d09d4cde6f3456439d5ebf5723c71b995b36075759f7ba43d97', 0, 'ff711aa95f6989fc5542a8a8ffe2ca3f152f39c1a3fbd492f80f4c3bb99121b8', '152f39c1a3fbd492f80f4c3bb99121b8b4423d06305089ef10eaf37f04161ea4', 'b4423d06305089ef10eaf37f04161ea4601c5d0359cddf889f16c1b466327152', 0, 'b4cf2c2d5679b2dc6da9d53874a3e84e1d21fab0e5378f7ea4e41c11ccf30b76', '1d21fab0e5378f7ea4e41c11ccf30b76d14dab7da12c6796688363315bc79ef6', 'd14dab7da12c6796688363315bc79ef6a13eaa3e0e4ed3f913708dc5ca67994d', 'a13eaa3e0e4ed3f913708dc5ca67994d75dee1ebf69fd980b66cbfaacf3f6058', '75dee1ebf69fd980b66cbfaacf3f60580fa6eba5fa480d821a332935ce4c0127', '0fa6eba5fa480d821a332935ce4c01271c7b1edcc06efc1babec6ec1cab76b0a', '1c7b1edcc06efc1babec6ec1cab76b0adeb7849c90c734b0961a20fda84b4dc8', 0, '0566f2a6836c31727f7c3df111b342d893e833c4a380fc0a206584b84b202053', '93e833c4a380fc0a206584b84b202053236619d90344e01fc7d2cbf660bb75c2', '236619d90344e01fc7d2cbf660bb75c2e5266615bd4cc2f0e508b150d9c84b6e', 'e5266615bd4cc2f0e508b150d9c84b6e5ece8c0549e7737d2c2cadce9402953f', '5ece8c0549e7737d2c2cadce9402953f49b2ffaee5ed61d85e47554ca3d84862', '49b2ffaee5ed61d85e47554ca3d84862281f095fbc6b4fd35c73024bab85ea3b', '281f095fbc6b4fd35c73024bab85ea3bc70bbde07494ac76ade579a2037e4e2c', 'c70bbde07494ac76ade579a2037e4e2c89852aa0f4dbf5eec1a7b6845b98e33d', '89852aa0f4dbf5eec1a7b6845b98e33d4bfd2a88332a353e4606f625484e69a9', '4bfd2a88332a353e4606f625484e69a9c7a4329789543887697ed4437c73d485', 'c7a4329789543887697ed4437c73d4855a75a9f9ca292a89e8b29c7d8a457aba', '5a75a9f9ca292a89e8b29c7d8a457aba3f9eb9f3eeee2043a5b9a66528c68b58', '3f9eb9f3eeee2043a5b9a66528c68b58b930bd8f0828f4760aee8789073469a1', 'b930bd8f0828f4760aee8789073469a1a70d4a6fe115f7671c92e16bc7d2a199', 'a70d4a6fe115f7671c92e16bc7d2a19923fe89e8c068bf67dbf1034d4058afb7', '23fe89e8c068bf67dbf1034d4058afb7bc31d574deca8d90c07a1450fdde457d', 'bc31d574deca8d90c07a1450fdde457d8e6d94e51644f9862608680693ddadc4', '8e6d94e51644f9862608680693ddadc41920b1d561b7f5e0fd39406d7cf37421', '1920b1d561b7f5e0fd39406d7cf374215e4533746595104bc4ca35b63f0e4924', '5e4533746595104bc4ca35b63f0e4924845fd1e78520ea8b19c249e93c9db9c7', '845fd1e78520ea8b19c249e93c9db9c7285aeea9270d8fbfec91160c52ebaa41', '285aeea9270d8fbfec91160c52ebaa41ec14ed8b32865e3b15e080e86968f99e', 'ec14ed8b32865e3b15e080e86968f99e973b2ec95deec0299f8ec456359f4b3d', '973b2ec95deec0299f8ec456359f4b3db2bbfe89b9f7acd426a20fc05cb88036', 'b2bbfe89b9f7acd426a20fc05cb88036aa01779da55595c4293d0c9e9e2ae24e', 'aa01779da55595c4293d0c9e9e2ae24e59523b3f0e69e35f3f561d36fcdd40ba', '59523b3f0e69e35f3f561d36fcdd40baefafad15443ce113a85f8a5135edc9e4', 'efafad15443ce113a85f8a5135edc9e4471116d9c17cf76d124c71be2e871338', '471116d9c17cf76d124c71be2e87133871e18c718530cb910568300a26434b9b', 0, 'b447a4042a9ef990ad6742297dfdf813ef5d4ab0c3b5bfe0fa6ae20743647d29', 'ef5d4ab0c3b5bfe0fa6ae20743647d29ff73048a6f90790aa9902f03593f2e12', 'ff73048a6f90790aa9902f03593f2e124fa61527025719bca69d55a916471b95', '4fa61527025719bca69d55a916471b957da7218587b4663d6bb692a8a365b51f', 0, '4fa0be08f4df464a0e24cd38a2f90c28a8c053b72bb0fc8cde688bed47b210a3', 'a8c053b72bb0fc8cde688bed47b210a30dc0e3c3acd07cc5a85811bca1643d63', '0dc0e3c3acd07cc5a85811bca1643d63195c33f2c2c8ea17738570bc5dc8ca5a', '195c33f2c2c8ea17738570bc5dc8ca5a1d7e2857ec96f2a013274827796cbeed', '1d7e2857ec96f2a013274827796cbeedea73901577e9958cec6281357f648c39', 'ea73901577e9958cec6281357f648c39ea4247499bc79bf0b4952a1ef77c8dc8', 'ea4247499bc79bf0b4952a1ef77c8dc885e62c4a238daea38443d3e46a2bf4bf', '85e62c4a238daea38443d3e46a2bf4bf6df4e555fd5f4648087fd57ee24e8eba', '6df4e555fd5f4648087fd57ee24e8eba945de9ca601318b60711a79a2dc26ca3', 0, '72d16aea9a486686a98fcae175c29374407f6e9e78410925cb964c715d5ccc2d', '407f6e9e78410925cb964c715d5ccc2d82edbd916b33c40a140469be42e921c0', '82edbd916b33c40a140469be42e921c0376dcc1bb9251520c957b229c1e107f4', '376dcc1bb9251520c957b229c1e107f4639f9276c76558b6813d916497ad6a28', '639f9276c76558b6813d916497ad6a28c51492e40b50980c59385448046c9839', 'c51492e40b50980c59385448046c983947c58b34a8b20b6f61fd1e557796bc1d', '47c58b34a8b20b6f61fd1e557796bc1defea958d4802b625018a2c9132d23168', 'efea958d4802b625018a2c9132d23168292b702d20acb50abda1eb18cf297b69', '292b702d20acb50abda1eb18cf297b696300e77069db8325cd1238d2128b0a7f', '6300e77069db8325cd1238d2128b0a7f1870a848cf9af81adf88fe974ae55a0b', 0, '768eced863b134e0d926ca9952bfad6f7364149bafe1da5ab5feee440efa7113', 0, '1696b3148f687253c74c7f22f01b9e63698d3b7b4c51f4855cde5a51a028ebae', '698d3b7b4c51f4855cde5a51a028ebae4f014f8315537882802c8c083709a15f', '4f014f8315537882802c8c083709a15f70e1dc20d3d90245b56f5b3f16db24e3', '70e1dc20d3d90245b56f5b3f16db24e3d52b060ef3c295051db679b1c2a643a6', 'd52b060ef3c295051db679b1c2a643a64d8a5c39b2fdcd302c638b3b7fca35f5', 0, 0, 0, 0, 0, 0, 0, 0, 0, 0, 0, 0, 0, 0, 0, 0, 0, 0, 0, 0, 0, 0, 0, 0, 0, 0, 0, 0, 0, 0, 0, 0, 0, 0, 0, 0, 0, 0, 0, 0, 0, 0, 0, 0, 0, 0, 0, 0, 0, '1696b3148f687253c74c7f22f01b9e63698d3b7b4c51f4855cde5a51a028ebae', '698d3b7b4c51f4855cde5a51a028ebae4f014f8315537882802c8c083709a15f', '4f014f8315537882802c8c083709a15f70e1dc20d3d90245b56f5b3f16db24e3', '70e1dc20d3d90245b56f5b3f16db24e3d52b060ef3c295051db679b1c2a643a6', 'd52b060ef3c295051db679b1c2a643a64d8a5c39b2fdcd302c638b3b7fca35f5', '4d8a5c39b2fdcd302c638b3b7fca35f52fbc18189b991a6f842974392b34950e', '2fbc18189b991a6f842974392b34950ea5caf9fb85216dd9f40647c4e8bd3c37', 0, 0, 0, 0, 0, 0, 0, 0, 0, 0, 0, 0, 0, 0, 0, 0, 0, 0, 0, 0, 0, 0, 0, 0, 0, 0, 0, 0, 0, 0, 0, 0, 0, 0, 0, 0, 0, 0, 0, 0, 0, 0, 0, 0]\n"
     ]
    }
   ],
   "source": [
    "app_list = catalog_df.app.unique()\n",
    "for app in app_list:\n",
    "    if app == 'Firefox19-W7x64':\n",
    "        app_df = catalog_df[catalog_df.app == app]\n",
    "        app_unique_md5s= app_df.md5.unique()\n",
    "        matched_image_df = image_df[image_df.md5.isin(app_unique_md5s)]\n",
    "        print(app,\" matched number of sectors in image \",len(matched_image_df))\n",
    "        #print(matched_image_df)\n",
    "        #lets create app sec pairs\n",
    "        app_files = app_df.filename.unique()\n",
    "        #print(app_files)\n",
    "        app_dict_set = {}\n",
    "        app_pairs_set = set() \n",
    "        for file in app_files:\n",
    "            files_df = app_df[app_df.filename == file]\n",
    "            #print(f'file {file} is of size {len(files_df)}')\n",
    "            file_hashes = files_df.md5\n",
    "            if len(file_hashes)< 2:\n",
    "                #print(file_hashes.iloc[0])\n",
    "                #app_pairs_set.add(file_hashes.iloc[0])\n",
    "                app_dict_set[file]=set(file_hashes.iloc[0])\n",
    "            else:\n",
    "                app_dict_set[file] = set()\n",
    "                for i in range(0, len(file_hashes)-1):\n",
    "                    #print(file_hashes.iloc[i])\n",
    "                    #print(file_hashes.iloc[int(i+1)])\n",
    "                    hash_pair = file_hashes.iloc[i]+file_hashes.iloc[i+1]\n",
    "                    #print(i, hash_pair)\n",
    "                    #app_pairs_set.add(hash_pair)\n",
    "                    app_dict_set[file].add(hash_pair)\n",
    "        #print(f\"set size is {len(app_pairs_set)}\")\n",
    "        #for key,value in app_dict_set.items():\n",
    "            #print(key,len(value))\n",
    "        image_md5_list = list(matched_image_df.md5)\n",
    "        image_md5_pairs = list(map(lambda a, b: a + b, image_md5_list[:-1], image_md5_list[1:]))\n",
    "        for key,value in app_dict_set.items():\n",
    "            forward_list = list(map(lambda x: 1 if x in value else 0, image_md5_pairs))\n",
    "            forward_x = list(map(lambda x: x if x in value else 0, image_md5_pairs))\n",
    "            forward_series = pd.Series(forward_list).value_counts()\n",
    "            if 1 in forward_series.index.values:\n",
    "                print(key,forward_series[1],\"\\n\",forward_x)\n",
    "        #print(app, \"matched\", len(matched_image_df), \"set\", len(app_pairs_set), \"valid\",forward_series.value_counts())\n",
    "        "
   ]
  }
 ],
 "metadata": {
  "interpreter": {
   "hash": "1895fe77d861caeaa821f2df72086efbb9754c9ce180e62170f24c0ec4bbaef9"
  },
  "kernelspec": {
   "display_name": "Python 3.9.6 64-bit ('paper2': conda)",
   "language": "python",
   "name": "python3"
  },
  "language_info": {
   "codemirror_mode": {
    "name": "ipython",
    "version": 3
   },
   "file_extension": ".py",
   "mimetype": "text/x-python",
   "name": "python",
   "nbconvert_exporter": "python",
   "pygments_lexer": "ipython3",
   "version": "3.9.6"
  },
  "orig_nbformat": 4
 },
 "nbformat": 4,
 "nbformat_minor": 2
}
