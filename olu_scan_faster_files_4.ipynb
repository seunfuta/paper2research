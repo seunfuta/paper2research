{
 "cells": [
  {
   "cell_type": "code",
   "execution_count": 2,
   "metadata": {},
   "outputs": [
    {
     "name": "stdout",
     "output_type": "stream",
     "text": [
      "original length  6826014\n",
      "catalog app length,  6546710\n",
      "/Users/seunfuta/Downloads/NIST/IMG/sdelete-W7x64.db\n",
      "original image length  6415822\n",
      "current image length  875101\n"
     ]
    }
   ],
   "source": [
    "import sqlite3\n",
    "import pandas as pd\n",
    "import sys\n",
    "import numpy as np\n",
    "import argparse\n",
    "from os import listdir\n",
    "from os.path import isfile, join\n",
    "\n",
    "class args:\n",
    "    i = \"/Users/seunfuta/Downloads/NIST/IMG/sdelete-W7x64.db\" #Wireshark-W7x64.db\"\n",
    "    c = \"/Users/seunfuta/Downloads/NIST/OluDB_combo_v3.db\"\n",
    "    o = \"/Users/seunfuta/Downloads/NIST/OLUSCAN/\"\n",
    "if __name__ == '__main__':\n",
    "    #parser = argparse.ArgumentParser(description='Olu method')\n",
    "    #parser.add_argument('-c', action=\"store\", default=\"/Users/seunfuta/Downloads/NIST/OluDB_combo_v3.db\", help='catalog path')\n",
    "    #parser.add_argument('-i', action=\"store\", default=\"/Users/seunfuta/Downloads/NIST/IMG/Wireshark-W7x64.db\", help=\"image path folder\")\n",
    "    #parser.add_argument('-o', action=\"store\", default=\"/Users/seunfuta/Downloads/NIST/OLUSCAN/\", help='output csv')\n",
    "    #args = parser.parse_args()\n",
    "    \n",
    "    #onlyfiles = [f for f in listdir(args.i) if isfile(join(args.i, f))]\n",
    "    #for file in onlyfiles:\n",
    "    #    print(\"IMAGE \"+str(onlyfiles.index(file)) +\" out of \"+str(len(onlyfiles)))\n",
    "    #    main(join(args.i+file))\n",
    "    #main(join(args.i))\n",
    "    #def main(imagefilepath):\n",
    "    CATALOG_DB_PATH = args.c\n",
    "    catalog_conn = sqlite3.connect(CATALOG_DB_PATH)\n",
    "    catalog_df = pd.DataFrame(columns=['obj_id', 'inode', 'filename','file_offset', 'len','md5','sha1', 'partition', 'filesize','app','app_id'])\n",
    "    catalog_df = pd.read_sql_query(\"SELECT block_hashes.obj_id, block_hashes.inode, block_hashes.filename, block_hashes.file_offset, \\\n",
    "                    block_hashes.len, block_hashes.md5, block_hashes.sha1, files.partition,files.filesize , files.app, files.app_id\\\n",
    "                    FROM files \\\n",
    "                    INNER JOIN block_hashes ON files.obj_id = block_hashes.obj_id \\\n",
    "                    and files.inode = block_hashes.inode and files.filename=block_hashes.filename;\", catalog_conn)\n",
    "    print(\"original length \",len(catalog_df))\n",
    "    catalog_df = catalog_df[catalog_df.md5 != 'bf619eac0cdf3f68d496ea9344137e8b']\n",
    "    catalog_df = catalog_df[catalog_df.md5 != 'de03fe65a6765caa8c91343acc62cffc']\n",
    "    catalog_df = catalog_df[catalog_df.md5 != '85eba416ce0ee0951d1d93e73b191b75']\n",
    "    catalog_df = catalog_df[catalog_df.md5 != '1b5c2cbf1e37f6b0d33751269ae707af']\n",
    "    catalog_conn.close()\n",
    "    print(\"catalog app length, \", len(catalog_df))\n",
    "    #############\n",
    "    print(args.i)#magefilepath)\n",
    "    IMAGE_DB_PATH = args.i#imagefilepath\n",
    "    image_conn = sqlite3.connect(IMAGE_DB_PATH)\n",
    "    image_df = pd.DataFrame(columns=['obj_id', 'inode', 'filename','file_offset', 'len','md5','sha1', 'partition', 'filesize'])\n",
    "    image_df = pd.read_sql_query(\"SELECT block_hashes.obj_id, files.inode, files.filename, block_hashes.file_offset, \\\n",
    "                    block_hashes.len, block_hashes.md5, block_hashes.sha1, files.partition,files.filesize \\\n",
    "                    FROM files \\\n",
    "                    INNER JOIN block_hashes ON files.obj_id = block_hashes.obj_id;\", image_conn)\n",
    "    print(\"original image length \",len(image_df))\n",
    "    image_df = image_df[image_df.md5 != 'bf619eac0cdf3f68d496ea9344137e8b']\n",
    "    image_df = image_df[image_df.md5 != 'de03fe65a6765caa8c91343acc62cffc']\n",
    "    image_df = image_df[image_df.md5 != '85eba416ce0ee0951d1d93e73b191b75']\n",
    "    image_df = image_df[image_df.md5 != '1b5c2cbf1e37f6b0d33751269ae707af']\n",
    "    print(\"current image length \",len(image_df))\n",
    "    ##############\n"
   ]
  },
  {
   "cell_type": "code",
   "execution_count": 3,
   "metadata": {},
   "outputs": [
    {
     "name": "stdout",
     "output_type": "stream",
     "text": [
      "Program Files/TrueCrypt/TrueCrypt User Guide.pdf\n"
     ]
    }
   ],
   "source": [
    "    from collections import OrderedDict\n",
    "    app_list = catalog_df.app.unique() #['Wireshark-W7x64'] #\n",
    "    result_df = pd.DataFrame()\n",
    "    for app in ['TrueCrypt63-WinXP']:#app_list:\n",
    "        #if app == 'OfficePro2003-W7x32':\n",
    "        app_df = catalog_df[catalog_df.app == app]\n",
    "        app_unique_md5s= app_df.md5.unique()\n",
    "        matched_image_df = image_df[image_df.md5.isin(app_unique_md5s)]\n",
    "        #print(app,\" matched number of sectors in image \",len(matched_image_df))\n",
    "        #print(matched_image_df)\n",
    "        #lets create app sec pairs\n",
    "        app_files = app_df.filename.unique()\n",
    "        #print(app_files)\n",
    "        app_pairs_set = {} #dict #set() \n",
    "        #lst2 = list(matched_image_df.md5)\n",
    "        #lst2_pairs = list(map(lambda a, b: a + b, lst2[:-1], lst2[1:]))\n",
    "        #Prob_Total = float(0)\n",
    "        file1 = app_files[0]\n",
    "        print(file1)\n",
    "\n"
   ]
  },
  {
   "cell_type": "code",
   "execution_count": 4,
   "metadata": {},
   "outputs": [
    {
     "name": "stdout",
     "output_type": "stream",
     "text": [
      "Program Files/TrueCrypt/TrueCrypt Format.exe\n"
     ]
    }
   ],
   "source": [
    "        file1 = app_files[2]\n",
    "        print(file1)"
   ]
  },
  {
   "cell_type": "code",
   "execution_count": 5,
   "metadata": {},
   "outputs": [],
   "source": [
    "files_df = app_df[app_df.filename == file1]"
   ]
  },
  {
   "cell_type": "code",
   "execution_count": 7,
   "metadata": {},
   "outputs": [
    {
     "name": "stdout",
     "output_type": "stream",
     "text": [
      "      obj_id  inode                                      filename  \\\n",
      "0       1950  10929  Program Files/TrueCrypt/TrueCrypt Format.exe   \n",
      "1       1950  10929  Program Files/TrueCrypt/TrueCrypt Format.exe   \n",
      "2       1950  10929  Program Files/TrueCrypt/TrueCrypt Format.exe   \n",
      "3       1950  10929  Program Files/TrueCrypt/TrueCrypt Format.exe   \n",
      "4       1950  10929  Program Files/TrueCrypt/TrueCrypt Format.exe   \n",
      "...      ...    ...                                           ...   \n",
      "3031    1950  10929  Program Files/TrueCrypt/TrueCrypt Format.exe   \n",
      "3032    1950  10929  Program Files/TrueCrypt/TrueCrypt Format.exe   \n",
      "3033    1950  10929  Program Files/TrueCrypt/TrueCrypt Format.exe   \n",
      "3034    1950  10929  Program Files/TrueCrypt/TrueCrypt Format.exe   \n",
      "3035    1950  10929  Program Files/TrueCrypt/TrueCrypt Format.exe   \n",
      "\n",
      "      file_offset  len                               md5  \\\n",
      "0               0  512  f7f9fd15dc6b25615dced7f50e57922c   \n",
      "1             512  512  b640f487d6a0d49506266a74f888dc92   \n",
      "2            1024  512  59aadbac06700a1c6eb62ae0b2398009   \n",
      "3            1536  512  deb40957b6718db9efc6b0ccc2480254   \n",
      "4            2048  512  6b0f2676c4d7b169fd7efba59ab29d45   \n",
      "...           ...  ...                               ...   \n",
      "3031      1559552  512  3363f81f87a276fd87d7a065837ebe37   \n",
      "3032      1560064  512  39e9d7fbc35c8dac48754deaf5c39b49   \n",
      "3033      1560576  512  60adec6612e5af2f3fb70e92235874ea   \n",
      "3034      1561088  512  8a1c5e0ea94da3900cc36f64b17de30a   \n",
      "3035      1561600  464  744e16a3ec442edad0537f22a197b154   \n",
      "\n",
      "                                          sha1  partition  filesize  \\\n",
      "0     654eb0646ee23f658d30d7850919ce4f241c6fe1          1   1562064   \n",
      "1     c34bdf10a13728bc4306be62f1192e92040d5e3f          1   1562064   \n",
      "2     47ca7f4dbb45299120f4431a1be6144a238b90f9          1   1562064   \n",
      "3     7bc74f41b35674a70d9cedf56f982406af837f9f          1   1562064   \n",
      "4     6ff91e7b8c71931e07347971bc3c815f70cb7181          1   1562064   \n",
      "...                                        ...        ...       ...   \n",
      "3031  1e5314e2945e5fb900c7aa6c7bf60c60ddc5a8c0          1   1562064   \n",
      "3032  1405fc50c39399debccd6a1bf7ed517c90229597          1   1562064   \n",
      "3033  65e4781db18dfa128dde14b00b38401128519b06          1   1562064   \n",
      "3034  1930b1604bf598504203e0a19f3a9ccdbbd17d16          1   1562064   \n",
      "3035  531dcb825b5cf25423c53290cb1bad76c3901147          1   1562064   \n",
      "\n",
      "                    app         app_id  \n",
      "0     TrueCrypt63-WinXP  234-1-15488-1  \n",
      "1     TrueCrypt63-WinXP  234-1-15488-1  \n",
      "2     TrueCrypt63-WinXP  234-1-15488-1  \n",
      "3     TrueCrypt63-WinXP  234-1-15488-1  \n",
      "4     TrueCrypt63-WinXP  234-1-15488-1  \n",
      "...                 ...            ...  \n",
      "3031  TrueCrypt63-WinXP  234-1-15488-1  \n",
      "3032  TrueCrypt63-WinXP  234-1-15488-1  \n",
      "3033  TrueCrypt63-WinXP  234-1-15488-1  \n",
      "3034  TrueCrypt63-WinXP  234-1-15488-1  \n",
      "3035  TrueCrypt63-WinXP  234-1-15488-1  \n",
      "\n",
      "[3036 rows x 11 columns]\n"
     ]
    }
   ],
   "source": [
    "files_df.reset_index(drop=True, inplace=True)\n",
    "print(files_df)\n"
   ]
  },
  {
   "cell_type": "code",
   "execution_count": 37,
   "metadata": {},
   "outputs": [
    {
     "name": "stdout",
     "output_type": "stream",
     "text": [
      "orig. image:  85  new image:  66\n"
     ]
    },
    {
     "name": "stderr",
     "output_type": "stream",
     "text": [
      "/var/folders/s7/d__51l693s13d_yt81j0qp9r0000gn/T/ipykernel_769/654800188.py:2: SettingWithCopyWarning: \n",
      "A value is trying to be set on a copy of a slice from a DataFrame.\n",
      "Try using .loc[row_indexer,col_indexer] = value instead\n",
      "\n",
      "See the caveats in the documentation: https://pandas.pydata.org/pandas-docs/stable/user_guide/indexing.html#returning-a-view-versus-a-copy\n",
      "  matched_image_df['image_offset'] = matched_image_df.index\n"
     ]
    }
   ],
   "source": [
    "file_hashes = files_df.md5.unique()\n",
    "matched_image_df['image_offset'] = matched_image_df.index\n",
    "matched_appfile_image_df = matched_image_df[matched_image_df.md5.isin(file_hashes)]\n",
    "print(\"orig. image: \",len(matched_image_df), \" new image: \", len(matched_appfile_image_df))"
   ]
  },
  {
   "cell_type": "code",
   "execution_count": 38,
   "metadata": {},
   "outputs": [
    {
     "name": "stdout",
     "output_type": "stream",
     "text": [
      "656673     b27431292abccda8fec17eb690b82eb8\n",
      "1067731    b27431292abccda8fec17eb690b82eb8\n",
      "5716000    4f73573c1b597d9e6ab273854880b6c7\n",
      "5716001    e557020f519052b3b696ace0d10d4fef\n",
      "5716337    4f73573c1b597d9e6ab273854880b6c7\n",
      "                         ...               \n",
      "6301887    e557020f519052b3b696ace0d10d4fef\n",
      "6301904    4f73573c1b597d9e6ab273854880b6c7\n",
      "6301905    e557020f519052b3b696ace0d10d4fef\n",
      "6302272    4f73573c1b597d9e6ab273854880b6c7\n",
      "6302273    e557020f519052b3b696ace0d10d4fef\n",
      "Name: md5, Length: 66, dtype: object\n"
     ]
    }
   ],
   "source": [
    "print(matched_appfile_image_df.md5)"
   ]
  },
  {
   "cell_type": "code",
   "execution_count": 39,
   "metadata": {},
   "outputs": [
    {
     "name": "stdout",
     "output_type": "stream",
     "text": [
      "[0]\n"
     ]
    }
   ],
   "source": [
    "cat_off = np.array(files_df.index[files_df.md5 == 'b27431292abccda8fec17eb690b82eb8'])\n",
    "cat_off = cat_off % 8\n",
    "print(cat_off)"
   ]
  },
  {
   "cell_type": "code",
   "execution_count": 40,
   "metadata": {},
   "outputs": [
    {
     "name": "stdout",
     "output_type": "stream",
     "text": [
      "[ 656673 1067731]\n",
      "[1 3]\n",
      "<class 'numpy.ndarray'>\n"
     ]
    }
   ],
   "source": [
    "matched_off = np.array(matched_appfile_image_df.index[matched_appfile_image_df.md5 == 'b27431292abccda8fec17eb690b82eb8'])\n",
    "print(matched_off)\n",
    "matched_off = matched_off % 8\n",
    "print(matched_off)\n",
    "print(type(matched_off))"
   ]
  },
  {
   "cell_type": "code",
   "execution_count": 34,
   "metadata": {},
   "outputs": [
    {
     "data": {
      "text/plain": [
       "False"
      ]
     },
     "execution_count": 34,
     "metadata": {},
     "output_type": "execute_result"
    }
   ],
   "source": [
    "matched_off in cat_off\n",
    "file_hashes_index_dict = {}"
   ]
  },
  {
   "cell_type": "code",
   "execution_count": 34,
   "metadata": {},
   "outputs": [
    {
     "name": "stdout",
     "output_type": "stream",
     "text": [
      "[ 656673 1067731 5716000 5716001 5716337 5716338 5716485 5716486 5716633\n",
      " 5716634 5716790 5716791 5716950 5716951 5717107 5717108 5717265 5717266\n",
      " 5717424 5717425 5717581 5717582 5717732 5717733 5717882 5717883 5718039\n",
      " 5718040 5718195 5718196 5718353 5718354 5718510 5718511 5719444 5719445\n",
      " 5719800 5719801 5721583 5721584 5722270 5722271 5723330 5723331 5723465\n",
      " 5723466 6299562 6299563 6300531 6300844 6300845 6301642 6301643 6301689\n",
      " 6301690 6301708 6301709 6301819 6301868 6301869 6301886 6301887 6301904\n",
      " 6301905 6302272 6302273]\n",
      "[1 3 0 1 1 2 5 6 1 2 6 7 6 7 3 4 1 2 0 1 5 6 4 5 2 3 7 0 3 4 1 2 6 7 4 5 0\n",
      " 1 7 0 6 7 2 3 1 2 2 3 3 4 5 2 3 1 2 4 5 3 4 5 6 7 0 1 0 1]\n"
     ]
    },
    {
     "ename": "ValueError",
     "evalue": "Can only compare identically-labeled Series objects",
     "output_type": "error",
     "traceback": [
      "\u001b[0;31m---------------------------------------------------------------------------\u001b[0m",
      "\u001b[0;31mValueError\u001b[0m                                Traceback (most recent call last)",
      "\u001b[0;32m/var/folders/s7/d__51l693s13d_yt81j0qp9r0000gn/T/ipykernel_769/3644392580.py\u001b[0m in \u001b[0;36m<module>\u001b[0;34m\u001b[0m\n\u001b[1;32m     11\u001b[0m     \u001b[0;32mreturn\u001b[0m \u001b[0mmatched_off\u001b[0m \u001b[0;32min\u001b[0m \u001b[0mcat_off\u001b[0m\u001b[0;34m\u001b[0m\u001b[0;34m\u001b[0m\u001b[0m\n\u001b[1;32m     12\u001b[0m \u001b[0;34m\u001b[0m\u001b[0m\n\u001b[0;32m---> 13\u001b[0;31m \u001b[0mresult\u001b[0m \u001b[0;34m=\u001b[0m \u001b[0mnp\u001b[0m\u001b[0;34m.\u001b[0m\u001b[0mwhere\u001b[0m\u001b[0;34m(\u001b[0m\u001b[0mcondition\u001b[0m\u001b[0;34m(\u001b[0m\u001b[0mmatched_appfile_image_df\u001b[0m\u001b[0;34m.\u001b[0m\u001b[0mmd5\u001b[0m\u001b[0;34m)\u001b[0m\u001b[0;34m,\u001b[0m \u001b[0;36m1\u001b[0m\u001b[0;34m,\u001b[0m \u001b[0;36m0\u001b[0m\u001b[0;34m)\u001b[0m\u001b[0;34m\u001b[0m\u001b[0;34m\u001b[0m\u001b[0m\n\u001b[0m",
      "\u001b[0;32m/var/folders/s7/d__51l693s13d_yt81j0qp9r0000gn/T/ipykernel_769/3644392580.py\u001b[0m in \u001b[0;36mcondition\u001b[0;34m(row)\u001b[0m\n\u001b[1;32m      5\u001b[0m     \u001b[0mmatched_off\u001b[0m \u001b[0;34m=\u001b[0m \u001b[0mmatched_off\u001b[0m \u001b[0;34m%\u001b[0m \u001b[0;36m8\u001b[0m\u001b[0;34m\u001b[0m\u001b[0;34m\u001b[0m\u001b[0m\n\u001b[1;32m      6\u001b[0m     \u001b[0mprint\u001b[0m\u001b[0;34m(\u001b[0m\u001b[0mmatched_off\u001b[0m\u001b[0;34m)\u001b[0m\u001b[0;34m\u001b[0m\u001b[0;34m\u001b[0m\u001b[0m\n\u001b[0;32m----> 7\u001b[0;31m     \u001b[0mcat_off\u001b[0m \u001b[0;34m=\u001b[0m \u001b[0mnp\u001b[0m\u001b[0;34m.\u001b[0m\u001b[0marray\u001b[0m\u001b[0;34m(\u001b[0m\u001b[0mfiles_df\u001b[0m\u001b[0;34m.\u001b[0m\u001b[0mindex\u001b[0m\u001b[0;34m[\u001b[0m\u001b[0mfiles_df\u001b[0m\u001b[0;34m.\u001b[0m\u001b[0mmd5\u001b[0m \u001b[0;34m==\u001b[0m \u001b[0mrow\u001b[0m\u001b[0;34m]\u001b[0m\u001b[0;34m)\u001b[0m\u001b[0;34m\u001b[0m\u001b[0;34m\u001b[0m\u001b[0m\n\u001b[0m\u001b[1;32m      8\u001b[0m     \u001b[0mprint\u001b[0m\u001b[0;34m(\u001b[0m\u001b[0mcat_off\u001b[0m\u001b[0;34m)\u001b[0m\u001b[0;34m\u001b[0m\u001b[0;34m\u001b[0m\u001b[0m\n\u001b[1;32m      9\u001b[0m     \u001b[0mcat_off\u001b[0m \u001b[0;34m=\u001b[0m \u001b[0mcat_off\u001b[0m \u001b[0;34m%\u001b[0m \u001b[0;36m8\u001b[0m\u001b[0;34m\u001b[0m\u001b[0;34m\u001b[0m\u001b[0m\n",
      "\u001b[0;32m~/opt/anaconda3/envs/paper2/lib/python3.9/site-packages/pandas/core/ops/common.py\u001b[0m in \u001b[0;36mnew_method\u001b[0;34m(self, other)\u001b[0m\n\u001b[1;32m     67\u001b[0m         \u001b[0mother\u001b[0m \u001b[0;34m=\u001b[0m \u001b[0mitem_from_zerodim\u001b[0m\u001b[0;34m(\u001b[0m\u001b[0mother\u001b[0m\u001b[0;34m)\u001b[0m\u001b[0;34m\u001b[0m\u001b[0;34m\u001b[0m\u001b[0m\n\u001b[1;32m     68\u001b[0m \u001b[0;34m\u001b[0m\u001b[0m\n\u001b[0;32m---> 69\u001b[0;31m         \u001b[0;32mreturn\u001b[0m \u001b[0mmethod\u001b[0m\u001b[0;34m(\u001b[0m\u001b[0mself\u001b[0m\u001b[0;34m,\u001b[0m \u001b[0mother\u001b[0m\u001b[0;34m)\u001b[0m\u001b[0;34m\u001b[0m\u001b[0;34m\u001b[0m\u001b[0m\n\u001b[0m\u001b[1;32m     70\u001b[0m \u001b[0;34m\u001b[0m\u001b[0m\n\u001b[1;32m     71\u001b[0m     \u001b[0;32mreturn\u001b[0m \u001b[0mnew_method\u001b[0m\u001b[0;34m\u001b[0m\u001b[0;34m\u001b[0m\u001b[0m\n",
      "\u001b[0;32m~/opt/anaconda3/envs/paper2/lib/python3.9/site-packages/pandas/core/arraylike.py\u001b[0m in \u001b[0;36m__eq__\u001b[0;34m(self, other)\u001b[0m\n\u001b[1;32m     30\u001b[0m     \u001b[0;34m@\u001b[0m\u001b[0munpack_zerodim_and_defer\u001b[0m\u001b[0;34m(\u001b[0m\u001b[0;34m\"__eq__\"\u001b[0m\u001b[0;34m)\u001b[0m\u001b[0;34m\u001b[0m\u001b[0;34m\u001b[0m\u001b[0m\n\u001b[1;32m     31\u001b[0m     \u001b[0;32mdef\u001b[0m \u001b[0m__eq__\u001b[0m\u001b[0;34m(\u001b[0m\u001b[0mself\u001b[0m\u001b[0;34m,\u001b[0m \u001b[0mother\u001b[0m\u001b[0;34m)\u001b[0m\u001b[0;34m:\u001b[0m\u001b[0;34m\u001b[0m\u001b[0;34m\u001b[0m\u001b[0m\n\u001b[0;32m---> 32\u001b[0;31m         \u001b[0;32mreturn\u001b[0m \u001b[0mself\u001b[0m\u001b[0;34m.\u001b[0m\u001b[0m_cmp_method\u001b[0m\u001b[0;34m(\u001b[0m\u001b[0mother\u001b[0m\u001b[0;34m,\u001b[0m \u001b[0moperator\u001b[0m\u001b[0;34m.\u001b[0m\u001b[0meq\u001b[0m\u001b[0;34m)\u001b[0m\u001b[0;34m\u001b[0m\u001b[0;34m\u001b[0m\u001b[0m\n\u001b[0m\u001b[1;32m     33\u001b[0m \u001b[0;34m\u001b[0m\u001b[0m\n\u001b[1;32m     34\u001b[0m     \u001b[0;34m@\u001b[0m\u001b[0munpack_zerodim_and_defer\u001b[0m\u001b[0;34m(\u001b[0m\u001b[0;34m\"__ne__\"\u001b[0m\u001b[0;34m)\u001b[0m\u001b[0;34m\u001b[0m\u001b[0;34m\u001b[0m\u001b[0m\n",
      "\u001b[0;32m~/opt/anaconda3/envs/paper2/lib/python3.9/site-packages/pandas/core/series.py\u001b[0m in \u001b[0;36m_cmp_method\u001b[0;34m(self, other, op)\u001b[0m\n\u001b[1;32m   5494\u001b[0m \u001b[0;34m\u001b[0m\u001b[0m\n\u001b[1;32m   5495\u001b[0m         \u001b[0;32mif\u001b[0m \u001b[0misinstance\u001b[0m\u001b[0;34m(\u001b[0m\u001b[0mother\u001b[0m\u001b[0;34m,\u001b[0m \u001b[0mSeries\u001b[0m\u001b[0;34m)\u001b[0m \u001b[0;32mand\u001b[0m \u001b[0;32mnot\u001b[0m \u001b[0mself\u001b[0m\u001b[0;34m.\u001b[0m\u001b[0m_indexed_same\u001b[0m\u001b[0;34m(\u001b[0m\u001b[0mother\u001b[0m\u001b[0;34m)\u001b[0m\u001b[0;34m:\u001b[0m\u001b[0;34m\u001b[0m\u001b[0;34m\u001b[0m\u001b[0m\n\u001b[0;32m-> 5496\u001b[0;31m             \u001b[0;32mraise\u001b[0m \u001b[0mValueError\u001b[0m\u001b[0;34m(\u001b[0m\u001b[0;34m\"Can only compare identically-labeled Series objects\"\u001b[0m\u001b[0;34m)\u001b[0m\u001b[0;34m\u001b[0m\u001b[0;34m\u001b[0m\u001b[0m\n\u001b[0m\u001b[1;32m   5497\u001b[0m \u001b[0;34m\u001b[0m\u001b[0m\n\u001b[1;32m   5498\u001b[0m         \u001b[0mlvalues\u001b[0m \u001b[0;34m=\u001b[0m \u001b[0mself\u001b[0m\u001b[0;34m.\u001b[0m\u001b[0m_values\u001b[0m\u001b[0;34m\u001b[0m\u001b[0;34m\u001b[0m\u001b[0m\n",
      "\u001b[0;31mValueError\u001b[0m: Can only compare identically-labeled Series objects"
     ]
    }
   ],
   "source": [
    "def condition(row):\n",
    "    #print(row)\n",
    "    matched_off = np.array(matched_appfile_image_df.index[matched_appfile_image_df.md5 == row])\n",
    "    print(matched_off)\n",
    "    matched_off = matched_off % 8\n",
    "    print(matched_off)\n",
    "    cat_off = np.array(files_df.index[files_df.md5 == row])\n",
    "    print(cat_off)\n",
    "    cat_off = cat_off % 8\n",
    "    print(cat_off)\n",
    "    return matched_off in cat_off\n",
    "\n",
    "result = np.where(condition(matched_appfile_image_df.md5), 1, 0)"
   ]
  },
  {
   "cell_type": "code",
   "execution_count": 47,
   "metadata": {},
   "outputs": [
    {
     "name": "stdout",
     "output_type": "stream",
     "text": [
      "1 b27431292abccda8fec17eb690b82eb8 False\n",
      "3 b27431292abccda8fec17eb690b82eb8 False\n",
      "0 4f73573c1b597d9e6ab273854880b6c7 False\n",
      "1 e557020f519052b3b696ace0d10d4fef False\n",
      "1 4f73573c1b597d9e6ab273854880b6c7 False\n",
      "2 e557020f519052b3b696ace0d10d4fef False\n",
      "5 4f73573c1b597d9e6ab273854880b6c7 False\n",
      "6 e557020f519052b3b696ace0d10d4fef False\n",
      "1 4f73573c1b597d9e6ab273854880b6c7 False\n",
      "2 e557020f519052b3b696ace0d10d4fef False\n",
      "6 4f73573c1b597d9e6ab273854880b6c7 True\n",
      "7 e557020f519052b3b696ace0d10d4fef True\n",
      "6 4f73573c1b597d9e6ab273854880b6c7 True\n",
      "7 e557020f519052b3b696ace0d10d4fef True\n",
      "3 4f73573c1b597d9e6ab273854880b6c7 False\n",
      "4 e557020f519052b3b696ace0d10d4fef False\n",
      "1 4f73573c1b597d9e6ab273854880b6c7 False\n",
      "2 e557020f519052b3b696ace0d10d4fef False\n",
      "0 4f73573c1b597d9e6ab273854880b6c7 False\n",
      "1 e557020f519052b3b696ace0d10d4fef False\n",
      "5 4f73573c1b597d9e6ab273854880b6c7 False\n",
      "6 e557020f519052b3b696ace0d10d4fef False\n",
      "4 4f73573c1b597d9e6ab273854880b6c7 False\n",
      "5 e557020f519052b3b696ace0d10d4fef False\n",
      "2 4f73573c1b597d9e6ab273854880b6c7 False\n",
      "3 e557020f519052b3b696ace0d10d4fef False\n",
      "7 4f73573c1b597d9e6ab273854880b6c7 False\n",
      "0 e557020f519052b3b696ace0d10d4fef False\n",
      "3 4f73573c1b597d9e6ab273854880b6c7 False\n",
      "4 e557020f519052b3b696ace0d10d4fef False\n",
      "1 4f73573c1b597d9e6ab273854880b6c7 False\n",
      "2 e557020f519052b3b696ace0d10d4fef False\n",
      "6 4f73573c1b597d9e6ab273854880b6c7 True\n",
      "7 e557020f519052b3b696ace0d10d4fef True\n",
      "4 4f73573c1b597d9e6ab273854880b6c7 False\n",
      "5 e557020f519052b3b696ace0d10d4fef False\n",
      "0 4f73573c1b597d9e6ab273854880b6c7 False\n",
      "1 e557020f519052b3b696ace0d10d4fef False\n",
      "7 4f73573c1b597d9e6ab273854880b6c7 False\n",
      "0 e557020f519052b3b696ace0d10d4fef False\n",
      "6 4f73573c1b597d9e6ab273854880b6c7 True\n",
      "7 e557020f519052b3b696ace0d10d4fef True\n",
      "2 4f73573c1b597d9e6ab273854880b6c7 False\n",
      "3 e557020f519052b3b696ace0d10d4fef False\n",
      "1 4f73573c1b597d9e6ab273854880b6c7 False\n",
      "2 e557020f519052b3b696ace0d10d4fef False\n",
      "2 4f73573c1b597d9e6ab273854880b6c7 False\n",
      "3 e557020f519052b3b696ace0d10d4fef False\n",
      "3 2063103be61e5decec3b62b3909414e1 False\n",
      "4 4f73573c1b597d9e6ab273854880b6c7 False\n",
      "5 e557020f519052b3b696ace0d10d4fef False\n",
      "2 4f73573c1b597d9e6ab273854880b6c7 False\n",
      "3 e557020f519052b3b696ace0d10d4fef False\n",
      "1 4f73573c1b597d9e6ab273854880b6c7 False\n",
      "2 e557020f519052b3b696ace0d10d4fef False\n",
      "4 4f73573c1b597d9e6ab273854880b6c7 False\n",
      "5 e557020f519052b3b696ace0d10d4fef False\n",
      "3 2063103be61e5decec3b62b3909414e1 False\n",
      "4 4f73573c1b597d9e6ab273854880b6c7 False\n",
      "5 e557020f519052b3b696ace0d10d4fef False\n",
      "6 4f73573c1b597d9e6ab273854880b6c7 True\n",
      "7 e557020f519052b3b696ace0d10d4fef True\n",
      "0 4f73573c1b597d9e6ab273854880b6c7 False\n",
      "1 e557020f519052b3b696ace0d10d4fef False\n",
      "0 4f73573c1b597d9e6ab273854880b6c7 False\n",
      "1 e557020f519052b3b696ace0d10d4fef False\n"
     ]
    }
   ],
   "source": [
    "#from tqdm import tqdm\n",
    "#import time\n",
    "df_dict = matched_appfile_image_df.to_dict('records')\n",
    "for row in df_dict:\n",
    "    cluster_off = row['image_offset'] % 8\n",
    "    catappfilehash_off = np.array(files_df.index[files_df.md5 == row['md5']])\n",
    "    catappfilehash_off = catappfilehash_off % 8\n",
    "    print(cluster_off, row['md5'],cluster_off in catappfilehash_off)"
   ]
  },
  {
   "cell_type": "code",
   "execution_count": 26,
   "metadata": {},
   "outputs": [
    {
     "ename": "IndexError",
     "evalue": "only integers, slices (`:`), ellipsis (`...`), numpy.newaxis (`None`) and integer or boolean arrays are valid indices",
     "output_type": "error",
     "traceback": [
      "\u001b[0;31m---------------------------------------------------------------------------\u001b[0m",
      "\u001b[0;31mIndexError\u001b[0m                                Traceback (most recent call last)",
      "\u001b[0;32m/var/folders/s7/d__51l693s13d_yt81j0qp9r0000gn/T/ipykernel_769/79103641.py\u001b[0m in \u001b[0;36m<module>\u001b[0;34m\u001b[0m\n\u001b[0;32m----> 1\u001b[0;31m \u001b[0mprint\u001b[0m\u001b[0;34m(\u001b[0m\u001b[0mnp\u001b[0m\u001b[0;34m.\u001b[0m\u001b[0marray\u001b[0m\u001b[0;34m(\u001b[0m\u001b[0mimage_df\u001b[0m\u001b[0;34m.\u001b[0m\u001b[0mindex\u001b[0m\u001b[0;34m[\u001b[0m\u001b[0mimage_df\u001b[0m\u001b[0;34m.\u001b[0m\u001b[0miloc\u001b[0m\u001b[0;34m[\u001b[0m\u001b[0;36m0\u001b[0m\u001b[0;34m:\u001b[0m\u001b[0;36m2\u001b[0m\u001b[0;34m,\u001b[0m\u001b[0;34m:\u001b[0m\u001b[0;34m]\u001b[0m\u001b[0;34m]\u001b[0m\u001b[0;34m)\u001b[0m\u001b[0;34m)\u001b[0m\u001b[0;34m\u001b[0m\u001b[0;34m\u001b[0m\u001b[0m\n\u001b[0m",
      "\u001b[0;32m~/opt/anaconda3/envs/paper2/lib/python3.9/site-packages/pandas/core/indexes/base.py\u001b[0m in \u001b[0;36m__getitem__\u001b[0;34m(self, key)\u001b[0m\n\u001b[1;32m   4614\u001b[0m             \u001b[0mkey\u001b[0m \u001b[0;34m=\u001b[0m \u001b[0mnp\u001b[0m\u001b[0;34m.\u001b[0m\u001b[0masarray\u001b[0m\u001b[0;34m(\u001b[0m\u001b[0mkey\u001b[0m\u001b[0;34m,\u001b[0m \u001b[0mdtype\u001b[0m\u001b[0;34m=\u001b[0m\u001b[0mbool\u001b[0m\u001b[0;34m)\u001b[0m\u001b[0;34m\u001b[0m\u001b[0;34m\u001b[0m\u001b[0m\n\u001b[1;32m   4615\u001b[0m \u001b[0;34m\u001b[0m\u001b[0m\n\u001b[0;32m-> 4616\u001b[0;31m         \u001b[0mresult\u001b[0m \u001b[0;34m=\u001b[0m \u001b[0mgetitem\u001b[0m\u001b[0;34m(\u001b[0m\u001b[0mkey\u001b[0m\u001b[0;34m)\u001b[0m\u001b[0;34m\u001b[0m\u001b[0;34m\u001b[0m\u001b[0m\n\u001b[0m\u001b[1;32m   4617\u001b[0m         \u001b[0;32mif\u001b[0m \u001b[0;32mnot\u001b[0m \u001b[0mis_scalar\u001b[0m\u001b[0;34m(\u001b[0m\u001b[0mresult\u001b[0m\u001b[0;34m)\u001b[0m\u001b[0;34m:\u001b[0m\u001b[0;34m\u001b[0m\u001b[0;34m\u001b[0m\u001b[0m\n\u001b[1;32m   4618\u001b[0m             \u001b[0;31m# error: Argument 1 to \"ndim\" has incompatible type \"Union[ExtensionArray,\u001b[0m\u001b[0;34m\u001b[0m\u001b[0;34m\u001b[0m\u001b[0;34m\u001b[0m\u001b[0m\n",
      "\u001b[0;31mIndexError\u001b[0m: only integers, slices (`:`), ellipsis (`...`), numpy.newaxis (`None`) and integer or boolean arrays are valid indices"
     ]
    }
   ],
   "source": [
    "files_hashes = files_df.md5.unique()\n",
    "\n",
    "\n",
    "def is_clusteroff_valid(hash,ind):\n",
    "    if true:\n",
    "        return True\n",
    "\n",
    "\n",
    "\n",
    "\n",
    "result = np.where(is_clusteroff_valid(matched_appfile_image_df,files_df), 1, 0)"
   ]
  },
  {
   "cell_type": "code",
   "execution_count": null,
   "metadata": {},
   "outputs": [],
   "source": [
    "        for file in list(file1):#app_files:\n",
    "            #file_hash_dict = {}\n",
    "            #file_hashpair_set = set()\n",
    "            files_df = app_df[app_df.filename == file]\n",
    "            #print(f'file {file} is of size {len(files_df)}')\n",
    "            file_hashes = files_df.md5\n",
    "            '''\n",
    "            if len(file_hashes)< 2:\n",
    "                 #print(file_hashes.iloc[0])\n",
    "                file_hashpair_set.add(file_hashes.iloc[0])\n",
    "            else:\n",
    "                for i in range(0, len(file_hashes)-1):\n",
    "                    #print(file_hashes.iloc[i])\n",
    "                    #print(file_hashes.iloc[int(i+1)])\n",
    "                    hash_pair = file_hashes.iloc[i]+file_hashes.iloc[i+1]\n",
    "                #print(i, hash_pair)\n",
    "                    file_hashpair_set.add(hash_pair)\n",
    "            app_pairs_set[file] = file_hashpair_set \n",
    "            '''\n",
    "            file_hash_uniq_list = files_df.md5.unique()\n",
    "            hash2pos = {}\n",
    "            #result = hash2pos[]\n",
    "            image_2_file_df = image_df[image_df.md5.isin(file_hash_uniq_list)]\n",
    "            for uniq_hash in file_hash_uniq_list:\n",
    "                hash2pos[uniq_hash] = list(map(lambda x: file_hash_uniq_list.index(x), uniq_hash))\n",
    "            #image_hashes_dict = OrderedDict()\n",
    "            result = list(map(lambda a, b, c: np.where((b-a ==1) & (c-b==1),1,0), hash2pos[image_2_file_df[:-2]], hash2pos[image_2_file_df[1:-1]], hash2pos[image_2_file_df[2:]]))\n",
    "            "
   ]
  }
 ],
 "metadata": {
  "interpreter": {
   "hash": "1895fe77d861caeaa821f2df72086efbb9754c9ce180e62170f24c0ec4bbaef9"
  },
  "kernelspec": {
   "display_name": "Python 3.9.6 ('paper2')",
   "language": "python",
   "name": "python3"
  },
  "language_info": {
   "codemirror_mode": {
    "name": "ipython",
    "version": 3
   },
   "file_extension": ".py",
   "mimetype": "text/x-python",
   "name": "python",
   "nbconvert_exporter": "python",
   "pygments_lexer": "ipython3",
   "version": "3.9.6"
  },
  "orig_nbformat": 4
 },
 "nbformat": 4,
 "nbformat_minor": 2
}
