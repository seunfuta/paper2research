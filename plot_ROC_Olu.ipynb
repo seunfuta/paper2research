{
 "cells": [
  {
   "cell_type": "code",
   "execution_count": 2,
   "metadata": {},
   "outputs": [
    {
     "data": {
      "image/png": "[encoded data removed]",
      "text/plain": [
       "<Figure size 432x288 with 1 Axes>"
      ]
     },
     "metadata": {
      "needs_background": "light"
     },
     "output_type": "display_data"
    }
   ],
   "source": [
    "import matplotlib.pyplot as plt\n",
    "from sklearn.metrics import roc_curve, auc\n",
    "import sys\n",
    "import pandas as pd\n",
    "import numpy as np\n",
    "\n",
    "\n",
    "input_csv = \"/Users/seunfuta/Downloads/NIST/OLUSCAN/NEW/Thunderbird2-WinXP.csv\"\n",
    "csv = pd.read_csv(input_csv)\n",
    "csv\n",
    "Prob = csv.iloc[:,-1]\n",
    "app_name_str = input_csv.split(\"/\")[-1].split(\"-\")[0]\n",
    "ground_truth_bool = csv.iloc[:,0].str.contains(app_name_str)\n",
    "ground_truth = ground_truth_bool.astype(int)\n",
    "app_name_disk = input_csv.split(\"/\")[-1].split(\".\")[0]\n",
    "fpr = dict()\n",
    "tpr = dict()\n",
    "roc_auc = dict()\n",
    "\n",
    "fpr, tpr, _  = roc_curve(ground_truth,Prob)\n",
    "roc_auc = auc(fpr, tpr)\n",
    "\n",
    "plt.figure()\n",
    "lw = 2\n",
    "plt.plot(fpr,tpr,color=\"darkorange\",lw=lw,label=\"ROC curve (area = %0.2f)\" % roc_auc,)\n",
    "plt.plot([0, 1], [0, 1], color=\"navy\", lw=lw, linestyle=\"--\")\n",
    "plt.xlim([0.0, 1.0])\n",
    "plt.ylim([0.0, 1.05])\n",
    "plt.xlabel(\"False Positive Rate\")\n",
    "plt.ylabel(\"True Positive Rate\")\n",
    "plt.title(\"Receiver operating characteristic \"+app_name_disk)\n",
    "plt.legend(loc=\"lower right\")\n",
    "plt.show()"
   ]
  },
  {
   "cell_type": "code",
   "execution_count": 1,
   "metadata": {},
   "outputs": [
    {
     "name": "stdout",
     "output_type": "stream",
     "text": [
      "['jones_image4.csv', 'jones_image1.csv', 'jones_image2.csv', 'jones_image3.csv']\n"
     ]
    },
    {
     "ename": "SyntaxError",
     "evalue": "'break' outside loop (3143410943.py, line 21)",
     "output_type": "error",
     "traceback": [
      "\u001b[0;36m  File \u001b[0;32m\"/var/folders/s7/d__51l693s13d_yt81j0qp9r0000gn/T/ipykernel_7383/3143410943.py\"\u001b[0;36m, line \u001b[0;32m21\u001b[0m\n\u001b[0;31m    break\u001b[0m\n\u001b[0m    ^\u001b[0m\n\u001b[0;31mSyntaxError\u001b[0m\u001b[0;31m:\u001b[0m 'break' outside loop\n"
     ]
    }
   ],
   "source": [
    "import matplotlib.pyplot as plt\n",
    "from sklearn.metrics import roc_curve, auc\n",
    "import sys\n",
    "import pandas as pd\n",
    "import numpy as np\n",
    "#!/usr/bin/env python\n",
    "import os, re\n",
    "dirlist = os.listdir('.')\n",
    "jones_pattern = '^jones.*$'\n",
    "olu_pattern = '^olu.*$'\n",
    "\n",
    "dir_path = \"/Users/seunfuta/Downloads/ROC/\"\n",
    "files = os.listdir(dir_path)\n",
    "jones_files = []\n",
    "olu_files = []\n",
    "for fname in files:\n",
    "  if re.search(jones_pattern, fname):\n",
    "    jones_files.append(fname)\n",
    "\n",
    "for fname in files:\n",
    "  if re.search(olu_pattern, fname):\n",
    "    olu_files.append(fname)\n",
    "\n",
    "\n",
    "input_csv = \"/Users/seunfuta/Downloads/NIST/OLUSCAN/NEW/Thunderbird2-WinXP.csv\"\n",
    "csv = pd.read_csv(input_csv)\n",
    "\n",
    "csv\n",
    "Prob = csv.iloc[:,-1]\n",
    "app_name_str = input_csv.split(\"/\")[-1].split(\"-\")[0]\n",
    "ground_truth_bool = csv.iloc[:,0].str.contains(app_name_str)\n",
    "ground_truth = ground_truth_bool.astype(int)\n",
    "app_name_disk = input_csv.split(\"/\")[-1].split(\".\")[0]\n",
    "fpr = dict()\n",
    "tpr = dict()\n",
    "roc_auc = dict()\n",
    "\n",
    "fpr, tpr, _  = roc_curve(ground_truth,Prob)\n",
    "roc_auc = auc(fpr, tpr)\n",
    "\n",
    "plt.figure()\n",
    "lw = 2\n",
    "plt.plot(fpr,tpr,color=\"darkorange\",lw=lw,label=\"ROC curve (area = %0.2f)\" % roc_auc,)\n",
    "plt.plot([0, 1], [0, 1], color=\"navy\", lw=lw, linestyle=\"--\")\n",
    "plt.xlim([0.0, 1.0])\n",
    "plt.ylim([0.0, 1.05])\n",
    "plt.xlabel(\"False Positive Rate\")\n",
    "plt.ylabel(\"True Positive Rate\")\n",
    "plt.title(\"Receiver operating characteristic \"+app_name_disk)\n",
    "plt.legend(loc=\"lower right\")\n",
    "plt.show()"
   ]
  }
 ],
 "metadata": {
  "interpreter": {
   "hash": "1895fe77d861caeaa821f2df72086efbb9754c9ce180e62170f24c0ec4bbaef9"
  },
  "kernelspec": {
   "display_name": "Python 3.9.6 ('paper2')",
   "language": "python",
   "name": "python3"
  },
  "language_info": {
   "codemirror_mode": {
    "name": "ipython",
    "version": 3
   },
   "file_extension": ".py",
   "mimetype": "text/x-python",
   "name": "python",
   "nbconvert_exporter": "python",
   "pygments_lexer": "ipython3",
   "version": "3.9.6"
  },
  "orig_nbformat": 4
 },
 "nbformat": 4,
 "nbformat_minor": 2
}
