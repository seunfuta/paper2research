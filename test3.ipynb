{
 "cells": [
  {
   "cell_type": "code",
   "execution_count": 1,
   "metadata": {},
   "outputs": [
    {
     "name": "stderr",
     "output_type": "stream",
     "text": [
      "Process SpawnPoolWorker-1:\n",
      "Process SpawnPoolWorker-2:\n",
      "Traceback (most recent call last):\n",
      "  File \"/Users/seunfuta/opt/anaconda3/envs/paper2/lib/python3.9/multiprocessing/process.py\", line 315, in _bootstrap\n",
      "    self.run()\n",
      "  File \"/Users/seunfuta/opt/anaconda3/envs/paper2/lib/python3.9/multiprocessing/process.py\", line 108, in run\n",
      "    self._target(*self._args, **self._kwargs)\n",
      "  File \"/Users/seunfuta/opt/anaconda3/envs/paper2/lib/python3.9/multiprocessing/pool.py\", line 114, in worker\n",
      "    task = get()\n",
      "  File \"/Users/seunfuta/opt/anaconda3/envs/paper2/lib/python3.9/multiprocessing/queues.py\", line 368, in get\n",
      "    return _ForkingPickler.loads(res)\n",
      "AttributeError: Can't get attribute 'func' on <module '__main__' (built-in)>\n",
      "Traceback (most recent call last):\n",
      "  File \"/Users/seunfuta/opt/anaconda3/envs/paper2/lib/python3.9/multiprocessing/process.py\", line 315, in _bootstrap\n",
      "    self.run()\n",
      "  File \"/Users/seunfuta/opt/anaconda3/envs/paper2/lib/python3.9/multiprocessing/process.py\", line 108, in run\n",
      "    self._target(*self._args, **self._kwargs)\n",
      "  File \"/Users/seunfuta/opt/anaconda3/envs/paper2/lib/python3.9/multiprocessing/pool.py\", line 114, in worker\n",
      "    task = get()\n",
      "  File \"/Users/seunfuta/opt/anaconda3/envs/paper2/lib/python3.9/multiprocessing/queues.py\", line 368, in get\n",
      "    return _ForkingPickler.loads(res)\n",
      "AttributeError: Can't get attribute 'func' on <module '__main__' (built-in)>\n",
      "Process SpawnPoolWorker-3:\n",
      "Traceback (most recent call last):\n",
      "  File \"/Users/seunfuta/opt/anaconda3/envs/paper2/lib/python3.9/multiprocessing/process.py\", line 315, in _bootstrap\n",
      "    self.run()\n",
      "  File \"/Users/seunfuta/opt/anaconda3/envs/paper2/lib/python3.9/multiprocessing/process.py\", line 108, in run\n",
      "    self._target(*self._args, **self._kwargs)\n",
      "  File \"/Users/seunfuta/opt/anaconda3/envs/paper2/lib/python3.9/multiprocessing/pool.py\", line 114, in worker\n",
      "    task = get()\n",
      "  File \"/Users/seunfuta/opt/anaconda3/envs/paper2/lib/python3.9/multiprocessing/queues.py\", line 368, in get\n",
      "    return _ForkingPickler.loads(res)\n",
      "AttributeError: Can't get attribute 'func' on <module '__main__' (built-in)>\n"
     ]
    }
   ],
   "source": [
    "import pandas as pd\n",
    "import numpy as np\n",
    "import matplotlib.pyplot as plt\n",
    "from sklearn.model_selection import train_test_split\n",
    "from sklearn.preprocessing import StandardScaler\n",
    "from sklearn.svm import SVC\n",
    "from sklearn.linear_model import LogisticRegression\n",
    "from sklearn.metrics import roc_curve, auc\n",
    "\n",
    "#table = pd.DataFrame({'id':[1,2,3,4,5,6,7,8,9,10],'class':[0,0,1,1,1,0,1,0,1,0],'p1':[0.35,0.05,0.70,0.45,0.40,0.30,0.80,0.15,0.65,0.60],'p2':[0.8,0.40,0.10,0.25,0.05,0.15,0.60,0.20,0.45,0.30]},columns=['id','class','p1','p2'])\n",
    "#table \n",
    "from functools import partial\n",
    "from itertools import repeat\n",
    "from multiprocessing import Pool, freeze_support\n",
    "\n",
    "def func(a, b):\n",
    "    return a + b\n",
    "\n",
    "def main2():\n",
    "    a_args = [1,2,3]\n",
    "    second_arg = 1\n",
    "    with Pool() as pool:\n",
    "        L = pool.starmap(func, [(1, 1), (2, 1), (3, 1)])\n",
    "        M = pool.starmap(func, zip(a_args, repeat(second_arg)))\n",
    "        N = pool.map(partial(func, b=second_arg), a_args)\n",
    "        assert L == M == N\n",
    "\n",
    "def main():\n",
    "    pool_size = 3\n",
    "    a_args = [1,2,3]\n",
    "    second_arg = 1\n",
    "    pool = multiprocessing.Pool(processes=pool_size)\n",
    "    #pool_outputs = pool.map(scan_list_v_world,list_of_file_dfs)\n",
    "    pool_outputs = pool.starmap(func, zip(a_args, repeat(second_arg)))\n",
    "    pool.close()\n",
    "    pool.join()\n",
    "    print(pool_outputs)\n",
    "if __name__==\"__main__\":\n",
    "    #freeze_support()\n",
    "    main()"
   ]
  }
 ],
 "metadata": {
  "interpreter": {
   "hash": "1895fe77d861caeaa821f2df72086efbb9754c9ce180e62170f24c0ec4bbaef9"
  },
  "kernelspec": {
   "display_name": "Python 3.9.6 64-bit ('paper2': conda)",
   "language": "python",
   "name": "python3"
  },
  "language_info": {
   "codemirror_mode": {
    "name": "ipython",
    "version": 3
   },
   "file_extension": ".py",
   "mimetype": "text/x-python",
   "name": "python",
   "nbconvert_exporter": "python",
   "pygments_lexer": "ipython3",
   "version": "3.9.6"
  },
  "orig_nbformat": 4
 },
 "nbformat": 4,
 "nbformat_minor": 2
}
